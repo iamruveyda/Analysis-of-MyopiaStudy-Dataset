{
    "cells": [
        {
            "attachments": {},
            "cell_type": "markdown",
            "metadata": {},
            "source": [
                "# Introduction\n",
                "\n",
                "- <a href= '#understanding'>Understanding the Dataset</a>\n",
                "- <a href= '#normality'>Normality Test</a>\n",
                "  - <a href= '#shapiro-wilk'>Shapiro-Wilk Test</a>\n",
                "- <a href= '#anova'>Analysis of Variance (ANOVA)</a>\n",
                "  - <a href= '#one-way-anova'>One-way ANOVA</a>\n",
                "    - <a href= '#one-way-anova-levene'>Levene's Test</a>\n",
                "    - <a href= '#one-way-anova-descr'>Descriptive Statistics</a>\n",
                "    - <a href= '#one-way-anova-table'>ANOVA Table</a>\n",
                "  - <a href= '#two-way-anova'>Two-way ANOVA</a>\n",
                "    - <a href= '#two-way-anova-levene'>Levene's Test</a>\n",
                "    - <a href= '#two-way-anova-descr'>Descriptive Statistics</a>\n",
                "    - <a href= '#two-way-anova-table'>ANOVA Table</a>\n",
                "    - <a href= '#two-way-anova-tukey'>Tukey Test</a>\n",
                "- <a href= '#manova'>Multivariate Analysis of Variance (MANOVA)</a>\n",
                "  - <a href= '#one-way-manova'>One-way MANOVA</a>\n",
                "    - <a href= '#one-way-manova-boxm'>Homogeneity of Covariance Matrices</a>\n",
                "    - <a href= '#one-way-manova-levene'>Levene's Test</a>\n",
                "    - <a href= '#one-way-manova-descr'>Descriptive Statistics</a>\n",
                "    - <a href= '#one-way-manova-table'>MANOVA Table</a>\n",
                "  - <a href= '#two-way-manova'>Two-way MANOVA</a>\n",
                "    - <a href= '#two-way-manova-boxm'>Homogeneity of Covariance Matrices</a>\n",
                "    - <a href= '#two-way-manova-descr'>Descriptive Statistics</a>\n",
                "    - <a href= '#two-way-manova-table'>MANOVA Table</a>\n",
                "\n",
                "<a id='understanding'></a>\n",
                "\n",
                "# Understanding the Dataset\n"
            ]
        },
        {
            "cell_type": "code",
            "execution_count": 1,
            "metadata": {
                "vscode": {
                    "languageId": "r"
                }
            },
            "outputs": [
                {
                    "data": {
                        "text/html": [
                            "<ol>\n",
                            "\t<li>TRUE</li>\n",
                            "\t<li>TRUE</li>\n",
                            "\t<li>TRUE</li>\n",
                            "\t<li>TRUE</li>\n",
                            "\t<li>TRUE</li>\n",
                            "\t<li>TRUE</li>\n",
                            "</ol>\n"
                        ],
                        "text/latex": [
                            "\\begin{enumerate}\n",
                            "\\item TRUE\n",
                            "\\item TRUE\n",
                            "\\item TRUE\n",
                            "\\item TRUE\n",
                            "\\item TRUE\n",
                            "\\item TRUE\n",
                            "\\end{enumerate}\n"
                        ],
                        "text/markdown": [
                            "1. TRUE\n",
                            "2. TRUE\n",
                            "3. TRUE\n",
                            "4. TRUE\n",
                            "5. TRUE\n",
                            "6. TRUE\n",
                            "\n",
                            "\n"
                        ],
                        "text/plain": [
                            "[[1]]\n",
                            "[1] TRUE\n",
                            "\n",
                            "[[2]]\n",
                            "[1] TRUE\n",
                            "\n",
                            "[[3]]\n",
                            "[1] TRUE\n",
                            "\n",
                            "[[4]]\n",
                            "[1] TRUE\n",
                            "\n",
                            "[[5]]\n",
                            "[1] TRUE\n",
                            "\n",
                            "[[6]]\n",
                            "[1] TRUE\n"
                        ]
                    },
                    "metadata": {},
                    "output_type": "display_data"
                },
                {
                    "data": {
                        "text/html": [
                            "<table class=\"dataframe\">\n",
                            "<caption>A data.frame: 6 × 18</caption>\n",
                            "<thead>\n",
                            "\t<tr><th></th><th scope=col>ID</th><th scope=col>STUDYYEAR</th><th scope=col>MYOPIC</th><th scope=col>AGE</th><th scope=col>GENDER</th><th scope=col>SPHEQ</th><th scope=col>AL</th><th scope=col>ACD</th><th scope=col>LT</th><th scope=col>VCD</th><th scope=col>SPORTHR</th><th scope=col>READHR</th><th scope=col>COMPHR</th><th scope=col>STUDYHR</th><th scope=col>TVHR</th><th scope=col>DIOPTERHR</th><th scope=col>MOMMY</th><th scope=col>DADMY</th></tr>\n",
                            "\t<tr><th></th><th scope=col>&lt;int&gt;</th><th scope=col>&lt;int&gt;</th><th scope=col>&lt;int&gt;</th><th scope=col>&lt;int&gt;</th><th scope=col>&lt;int&gt;</th><th scope=col>&lt;dbl&gt;</th><th scope=col>&lt;dbl&gt;</th><th scope=col>&lt;dbl&gt;</th><th scope=col>&lt;dbl&gt;</th><th scope=col>&lt;dbl&gt;</th><th scope=col>&lt;int&gt;</th><th scope=col>&lt;int&gt;</th><th scope=col>&lt;int&gt;</th><th scope=col>&lt;int&gt;</th><th scope=col>&lt;int&gt;</th><th scope=col>&lt;int&gt;</th><th scope=col>&lt;int&gt;</th><th scope=col>&lt;int&gt;</th></tr>\n",
                            "</thead>\n",
                            "<tbody>\n",
                            "\t<tr><th scope=row>1</th><td>1</td><td>1992</td><td>1</td><td>6</td><td>1</td><td>-0.052</td><td>21.89</td><td>3.690</td><td>3.498</td><td>14.70</td><td>45</td><td> 8</td><td>0</td><td>0</td><td>10</td><td>34</td><td>1</td><td>1</td></tr>\n",
                            "\t<tr><th scope=row>2</th><td>2</td><td>1995</td><td>0</td><td>6</td><td>1</td><td> 0.608</td><td>22.38</td><td>3.702</td><td>3.392</td><td>15.29</td><td> 4</td><td> 0</td><td>1</td><td>1</td><td> 7</td><td>12</td><td>1</td><td>1</td></tr>\n",
                            "\t<tr><th scope=row>3</th><td>3</td><td>1991</td><td>0</td><td>6</td><td>1</td><td> 1.179</td><td>22.49</td><td>3.462</td><td>3.514</td><td>15.52</td><td>14</td><td> 0</td><td>2</td><td>0</td><td>10</td><td>14</td><td>0</td><td>0</td></tr>\n",
                            "\t<tr><th scope=row>4</th><td>4</td><td>1990</td><td>1</td><td>6</td><td>1</td><td> 0.525</td><td>22.20</td><td>3.862</td><td>3.612</td><td>14.73</td><td>18</td><td>11</td><td>0</td><td>0</td><td> 4</td><td>37</td><td>0</td><td>1</td></tr>\n",
                            "\t<tr><th scope=row>5</th><td>5</td><td>1995</td><td>0</td><td>5</td><td>0</td><td> 0.697</td><td>23.29</td><td>3.676</td><td>3.454</td><td>16.16</td><td>14</td><td> 0</td><td>0</td><td>0</td><td> 4</td><td> 4</td><td>1</td><td>0</td></tr>\n",
                            "\t<tr><th scope=row>6</th><td>6</td><td>1995</td><td>0</td><td>6</td><td>0</td><td> 1.744</td><td>22.14</td><td>3.224</td><td>3.556</td><td>15.36</td><td>10</td><td> 6</td><td>2</td><td>1</td><td>19</td><td>44</td><td>0</td><td>1</td></tr>\n",
                            "</tbody>\n",
                            "</table>\n"
                        ],
                        "text/latex": [
                            "A data.frame: 6 × 18\n",
                            "\\begin{tabular}{r|llllllllllllllllll}\n",
                            "  & ID & STUDYYEAR & MYOPIC & AGE & GENDER & SPHEQ & AL & ACD & LT & VCD & SPORTHR & READHR & COMPHR & STUDYHR & TVHR & DIOPTERHR & MOMMY & DADMY\\\\\n",
                            "  & <int> & <int> & <int> & <int> & <int> & <dbl> & <dbl> & <dbl> & <dbl> & <dbl> & <int> & <int> & <int> & <int> & <int> & <int> & <int> & <int>\\\\\n",
                            "\\hline\n",
                            "\t1 & 1 & 1992 & 1 & 6 & 1 & -0.052 & 21.89 & 3.690 & 3.498 & 14.70 & 45 &  8 & 0 & 0 & 10 & 34 & 1 & 1\\\\\n",
                            "\t2 & 2 & 1995 & 0 & 6 & 1 &  0.608 & 22.38 & 3.702 & 3.392 & 15.29 &  4 &  0 & 1 & 1 &  7 & 12 & 1 & 1\\\\\n",
                            "\t3 & 3 & 1991 & 0 & 6 & 1 &  1.179 & 22.49 & 3.462 & 3.514 & 15.52 & 14 &  0 & 2 & 0 & 10 & 14 & 0 & 0\\\\\n",
                            "\t4 & 4 & 1990 & 1 & 6 & 1 &  0.525 & 22.20 & 3.862 & 3.612 & 14.73 & 18 & 11 & 0 & 0 &  4 & 37 & 0 & 1\\\\\n",
                            "\t5 & 5 & 1995 & 0 & 5 & 0 &  0.697 & 23.29 & 3.676 & 3.454 & 16.16 & 14 &  0 & 0 & 0 &  4 &  4 & 1 & 0\\\\\n",
                            "\t6 & 6 & 1995 & 0 & 6 & 0 &  1.744 & 22.14 & 3.224 & 3.556 & 15.36 & 10 &  6 & 2 & 1 & 19 & 44 & 0 & 1\\\\\n",
                            "\\end{tabular}\n"
                        ],
                        "text/markdown": [
                            "\n",
                            "A data.frame: 6 × 18\n",
                            "\n",
                            "| <!--/--> | ID &lt;int&gt; | STUDYYEAR &lt;int&gt; | MYOPIC &lt;int&gt; | AGE &lt;int&gt; | GENDER &lt;int&gt; | SPHEQ &lt;dbl&gt; | AL &lt;dbl&gt; | ACD &lt;dbl&gt; | LT &lt;dbl&gt; | VCD &lt;dbl&gt; | SPORTHR &lt;int&gt; | READHR &lt;int&gt; | COMPHR &lt;int&gt; | STUDYHR &lt;int&gt; | TVHR &lt;int&gt; | DIOPTERHR &lt;int&gt; | MOMMY &lt;int&gt; | DADMY &lt;int&gt; |\n",
                            "|---|---|---|---|---|---|---|---|---|---|---|---|---|---|---|---|---|---|---|\n",
                            "| 1 | 1 | 1992 | 1 | 6 | 1 | -0.052 | 21.89 | 3.690 | 3.498 | 14.70 | 45 |  8 | 0 | 0 | 10 | 34 | 1 | 1 |\n",
                            "| 2 | 2 | 1995 | 0 | 6 | 1 |  0.608 | 22.38 | 3.702 | 3.392 | 15.29 |  4 |  0 | 1 | 1 |  7 | 12 | 1 | 1 |\n",
                            "| 3 | 3 | 1991 | 0 | 6 | 1 |  1.179 | 22.49 | 3.462 | 3.514 | 15.52 | 14 |  0 | 2 | 0 | 10 | 14 | 0 | 0 |\n",
                            "| 4 | 4 | 1990 | 1 | 6 | 1 |  0.525 | 22.20 | 3.862 | 3.612 | 14.73 | 18 | 11 | 0 | 0 |  4 | 37 | 0 | 1 |\n",
                            "| 5 | 5 | 1995 | 0 | 5 | 0 |  0.697 | 23.29 | 3.676 | 3.454 | 16.16 | 14 |  0 | 0 | 0 |  4 |  4 | 1 | 0 |\n",
                            "| 6 | 6 | 1995 | 0 | 6 | 0 |  1.744 | 22.14 | 3.224 | 3.556 | 15.36 | 10 |  6 | 2 | 1 | 19 | 44 | 0 | 1 |\n",
                            "\n"
                        ],
                        "text/plain": [
                            "  ID STUDYYEAR MYOPIC AGE GENDER SPHEQ  AL    ACD   LT    VCD   SPORTHR READHR\n",
                            "1 1  1992      1      6   1      -0.052 21.89 3.690 3.498 14.70 45       8    \n",
                            "2 2  1995      0      6   1       0.608 22.38 3.702 3.392 15.29  4       0    \n",
                            "3 3  1991      0      6   1       1.179 22.49 3.462 3.514 15.52 14       0    \n",
                            "4 4  1990      1      6   1       0.525 22.20 3.862 3.612 14.73 18      11    \n",
                            "5 5  1995      0      5   0       0.697 23.29 3.676 3.454 16.16 14       0    \n",
                            "6 6  1995      0      6   0       1.744 22.14 3.224 3.556 15.36 10       6    \n",
                            "  COMPHR STUDYHR TVHR DIOPTERHR MOMMY DADMY\n",
                            "1 0      0       10   34        1     1    \n",
                            "2 1      1        7   12        1     1    \n",
                            "3 2      0       10   14        0     0    \n",
                            "4 0      0        4   37        0     1    \n",
                            "5 0      0        4    4        1     0    \n",
                            "6 2      1       19   44        0     1    "
                        ]
                    },
                    "metadata": {},
                    "output_type": "display_data"
                }
            ],
            "source": [
                "# R Packages\n",
                "packages <- c(\"tidyverse\", \"ggplot2\", \"rstatix\", \"pander\", \"heplots\", \"readr\")\n",
                "\n",
                "suppressPackageStartupMessages(lapply(packages, require, character.only = TRUE))\n",
                "\n",
                "# Importing Data\n",
                "df <- read.csv(\"./R/dataset/myopia-study.csv\", sep = \",\")\n",
                "\n",
                "# for kaggle\n",
                "# df <- read.csv(\"../input/myopia-study/myopia.csv\", sep = \";\")\n",
                "\n",
                "# Top 6 rows\n",
                "head(df)"
            ]
        },
        {
            "cell_type": "code",
            "execution_count": 2,
            "metadata": {
                "vscode": {
                    "languageId": "r"
                }
            },
            "outputs": [
                {
                    "data": {
                        "text/html": [
                            "'data.frame'"
                        ],
                        "text/latex": [
                            "'data.frame'"
                        ],
                        "text/markdown": [
                            "'data.frame'"
                        ],
                        "text/plain": [
                            "[1] \"data.frame\""
                        ]
                    },
                    "metadata": {},
                    "output_type": "display_data"
                }
            ],
            "source": [
                "class(df)\n"
            ]
        },
        {
            "cell_type": "code",
            "execution_count": 3,
            "metadata": {
                "vscode": {
                    "languageId": "r"
                }
            },
            "outputs": [
                {
                    "name": "stdout",
                    "output_type": "stream",
                    "text": [
                        "       ID STUDYYEAR    MYOPIC       AGE    GENDER     SPHEQ        AL       ACD \n",
                        "\"integer\" \"integer\" \"integer\" \"integer\" \"integer\" \"numeric\" \"numeric\" \"numeric\" \n",
                        "       LT       VCD   SPORTHR    READHR    COMPHR   STUDYHR      TVHR DIOPTERHR \n",
                        "\"numeric\" \"numeric\" \"integer\" \"integer\" \"integer\" \"integer\" \"integer\" \"integer\" \n",
                        "    MOMMY     DADMY \n",
                        "\"integer\" \"integer\" \n"
                    ]
                }
            ],
            "source": [
                "print(sapply(df, class))\n"
            ]
        },
        {
            "cell_type": "code",
            "execution_count": 4,
            "metadata": {
                "vscode": {
                    "languageId": "r"
                }
            },
            "outputs": [
                {
                    "name": "stdout",
                    "output_type": "stream",
                    "text": [
                        "'data.frame':\t618 obs. of  18 variables:\n",
                        " $ ID       : int  1 2 3 4 5 6 7 8 9 10 ...\n",
                        " $ STUDYYEAR: int  1992 1995 1991 1990 1995 1995 1993 1991 1991 1991 ...\n",
                        " $ MYOPIC   : int  1 0 0 1 0 0 0 0 0 0 ...\n",
                        " $ AGE      : int  6 6 6 6 5 6 6 6 7 6 ...\n",
                        " $ GENDER   : int  1 1 1 1 0 0 1 1 0 1 ...\n",
                        " $ SPHEQ    : num  -0.052 0.608 1.179 0.525 0.697 ...\n",
                        " $ AL       : num  21.9 22.4 22.5 22.2 23.3 ...\n",
                        " $ ACD      : num  3.69 3.7 3.46 3.86 3.68 ...\n",
                        " $ LT       : num  3.5 3.39 3.51 3.61 3.45 ...\n",
                        " $ VCD      : num  14.7 15.3 15.5 14.7 16.2 ...\n",
                        " $ SPORTHR  : int  45 4 14 18 14 10 12 12 4 30 ...\n",
                        " $ READHR   : int  8 0 0 11 0 6 7 0 0 5 ...\n",
                        " $ COMPHR   : int  0 1 2 0 0 2 2 0 3 1 ...\n",
                        " $ STUDYHR  : int  0 1 0 0 0 1 1 0 1 0 ...\n",
                        " $ TVHR     : int  10 7 10 4 4 19 8 8 3 10 ...\n",
                        " $ DIOPTERHR: int  34 12 14 37 4 44 36 8 12 27 ...\n",
                        " $ MOMMY    : int  1 1 0 0 1 0 0 0 0 0 ...\n",
                        " $ DADMY    : int  1 1 0 1 0 1 1 0 0 0 ...\n"
                    ]
                }
            ],
            "source": [
                "# Structure of the data frame\n",
                "str(df)\n"
            ]
        },
        {
            "cell_type": "code",
            "execution_count": 5,
            "metadata": {
                "vscode": {
                    "languageId": "r"
                }
            },
            "outputs": [
                {
                    "data": {
                        "text/plain": [
                            "       ID          STUDYYEAR        MYOPIC            AGE       \n",
                            " Min.   :  1.0   Min.   :1990   Min.   :0.0000   Min.   :5.000  \n",
                            " 1st Qu.:155.2   1st Qu.:1991   1st Qu.:0.0000   1st Qu.:6.000  \n",
                            " Median :309.5   Median :1992   Median :0.0000   Median :6.000  \n",
                            " Mean   :309.5   Mean   :1992   Mean   :0.1311   Mean   :6.299  \n",
                            " 3rd Qu.:463.8   3rd Qu.:1994   3rd Qu.:0.0000   3rd Qu.:6.000  \n",
                            " Max.   :618.0   Max.   :1995   Max.   :1.0000   Max.   :9.000  \n",
                            "     GENDER           SPHEQ               AL             ACD       \n",
                            " Min.   :0.0000   Min.   :-0.6990   Min.   :19.90   Min.   :2.772  \n",
                            " 1st Qu.:0.0000   1st Qu.: 0.4562   1st Qu.:22.04   1st Qu.:3.424  \n",
                            " Median :0.0000   Median : 0.7290   Median :22.46   Median :3.585  \n",
                            " Mean   :0.4887   Mean   : 0.8010   Mean   :22.50   Mean   :3.579  \n",
                            " 3rd Qu.:1.0000   3rd Qu.: 1.0340   3rd Qu.:22.97   3rd Qu.:3.730  \n",
                            " Max.   :1.0000   Max.   : 4.3720   Max.   :24.56   Max.   :4.250  \n",
                            "       LT             VCD           SPORTHR          READHR      \n",
                            " Min.   :2.960   Min.   :13.38   Min.   : 0.00   Min.   : 0.000  \n",
                            " 1st Qu.:3.436   1st Qu.:14.93   1st Qu.: 6.00   1st Qu.: 0.000  \n",
                            " Median :3.542   Median :15.36   Median :10.00   Median : 2.000  \n",
                            " Mean   :3.541   Mean   :15.38   Mean   :11.95   Mean   : 2.796  \n",
                            " 3rd Qu.:3.640   3rd Qu.:15.84   3rd Qu.:16.00   3rd Qu.: 4.000  \n",
                            " Max.   :4.112   Max.   :17.30   Max.   :45.00   Max.   :20.000  \n",
                            "     COMPHR          STUDYHR           TVHR          DIOPTERHR     \n",
                            " Min.   : 0.000   Min.   : 0.00   Min.   : 0.000   Min.   :  2.00  \n",
                            " 1st Qu.: 0.000   1st Qu.: 0.00   1st Qu.: 4.250   1st Qu.: 15.00  \n",
                            " Median : 1.000   Median : 1.00   Median : 8.000   Median : 23.00  \n",
                            " Mean   : 2.105   Mean   : 1.49   Mean   : 8.948   Mean   : 26.02  \n",
                            " 3rd Qu.: 3.000   3rd Qu.: 2.00   3rd Qu.:12.000   3rd Qu.: 34.00  \n",
                            " Max.   :30.000   Max.   :15.00   Max.   :31.000   Max.   :101.00  \n",
                            "     MOMMY            DADMY       \n",
                            " Min.   :0.0000   Min.   :0.0000  \n",
                            " 1st Qu.:0.0000   1st Qu.:0.0000  \n",
                            " Median :1.0000   Median :0.0000  \n",
                            " Mean   :0.5065   Mean   :0.4984  \n",
                            " 3rd Qu.:1.0000   3rd Qu.:1.0000  \n",
                            " Max.   :1.0000   Max.   :1.0000  "
                        ]
                    },
                    "metadata": {},
                    "output_type": "display_data"
                }
            ],
            "source": [
                "# Statistical summary\n",
                "summary(df)\n"
            ]
        },
        {
            "cell_type": "code",
            "execution_count": 6,
            "metadata": {
                "vscode": {
                    "languageId": "r"
                }
            },
            "outputs": [
                {
                    "data": {
                        "text/html": [
                            "0"
                        ],
                        "text/latex": [
                            "0"
                        ],
                        "text/markdown": [
                            "0"
                        ],
                        "text/plain": [
                            "[1] 0"
                        ]
                    },
                    "metadata": {},
                    "output_type": "display_data"
                }
            ],
            "source": [
                "# Check missing values\n",
                "sum(is.na(df))\n"
            ]
        },
        {
            "cell_type": "markdown",
            "metadata": {},
            "source": [
                "<a id='normality'></a>\n",
                "\n",
                "# Normality Test\n",
                "\n",
                "The assumption of normality should be considered to perform the analysis.\n",
                "Considering the normality of all variables;\n",
                "\n",
                "- H0: Variables provide the assumption of normality\n",
                "\n",
                "- H1: Variables do not satisfy the assumption of normality\n",
                "\n",
                "</br>\n",
                "\n",
                "- p ≤ (α = 0.05) : **reject** H0\n",
                "\n",
                "- p \\> (α = 0.05) : reject H1 (or **accept** H0) [[ref]](https://www.geeksforgeeks.org/p-value/)\n",
                "\n",
                "<a id='shapiro-wilk'></a>\n",
                "\n",
                "## Shapiro-Wilk Test\n",
                "\n",
                "Shapiro-Wilk's test is a normality test in frequentist statistics.\n",
                "\n",
                "It is among the three tests for normality designed for detecting all kinds of departure from normality [[ref]](https://www.geeksforgeeks.org/shapiro-wilk-test-in-r-programming/).\n"
            ]
        },
        {
            "cell_type": "code",
            "execution_count": 7,
            "metadata": {
                "vscode": {
                    "languageId": "r"
                }
            },
            "outputs": [
                {
                    "data": {
                        "text/html": [
                            "<table class=\"dataframe\">\n",
                            "<caption>A data.frame: 17 × 3</caption>\n",
                            "<thead>\n",
                            "\t<tr><th></th><th scope=col>statistic</th><th scope=col>p.value</th><th scope=col>method</th></tr>\n",
                            "\t<tr><th></th><th scope=col>&lt;named list&gt;</th><th scope=col>&lt;chr&gt;</th><th scope=col>&lt;named list&gt;</th></tr>\n",
                            "</thead>\n",
                            "<tbody>\n",
                            "\t<tr><th scope=row>STUDYYEAR</th><td>0.8988441</td><td>p&lt;0.05</td><td>Shapiro-Wilk normality test</td></tr>\n",
                            "\t<tr><th scope=row>MYOPIC</th><td>0.3972498</td><td>p&lt;0.05</td><td>Shapiro-Wilk normality test</td></tr>\n",
                            "\t<tr><th scope=row>AGE</th><td>0.6476244</td><td>p&lt;0.05</td><td>Shapiro-Wilk normality test</td></tr>\n",
                            "\t<tr><th scope=row>GENDER</th><td>0.6363741</td><td>p&lt;0.05</td><td>Shapiro-Wilk normality test</td></tr>\n",
                            "\t<tr><th scope=row>SPHEQ</th><td>0.892849</td><td>p&lt;0.05</td><td>Shapiro-Wilk normality test</td></tr>\n",
                            "\t<tr><th scope=row>AL</th><td>0.9974372</td><td>p=0.45</td><td>Shapiro-Wilk normality test</td></tr>\n",
                            "\t<tr><th scope=row>ACD</th><td>0.9980938</td><td>p=0.75</td><td>Shapiro-Wilk normality test</td></tr>\n",
                            "\t<tr><th scope=row>LT</th><td>0.9968676</td><td>p=0.30</td><td>Shapiro-Wilk normality test</td></tr>\n",
                            "\t<tr><th scope=row>VCD</th><td>0.9963458</td><td>p=0.15</td><td>Shapiro-Wilk normality test</td></tr>\n",
                            "\t<tr><th scope=row>SPORTHR</th><td>0.9309436</td><td>p&lt;0.05</td><td>Shapiro-Wilk normality test</td></tr>\n",
                            "\t<tr><th scope=row>READHR</th><td>0.8322593</td><td>p&lt;0.05</td><td>Shapiro-Wilk normality test</td></tr>\n",
                            "\t<tr><th scope=row>COMPHR</th><td>0.6702958</td><td>p&lt;0.05</td><td>Shapiro-Wilk normality test</td></tr>\n",
                            "\t<tr><th scope=row>STUDYHR</th><td>0.6734526</td><td>p&lt;0.05</td><td>Shapiro-Wilk normality test</td></tr>\n",
                            "\t<tr><th scope=row>TVHR</th><td>0.9321961</td><td>p&lt;0.05</td><td>Shapiro-Wilk normality test</td></tr>\n",
                            "\t<tr><th scope=row>DIOPTERHR</th><td>0.9029071</td><td>p&lt;0.05</td><td>Shapiro-Wilk normality test</td></tr>\n",
                            "\t<tr><th scope=row>MOMMY</th><td>0.6364998</td><td>p&lt;0.05</td><td>Shapiro-Wilk normality test</td></tr>\n",
                            "\t<tr><th scope=row>DADMY</th><td>0.636557</td><td>p&lt;0.05</td><td>Shapiro-Wilk normality test</td></tr>\n",
                            "</tbody>\n",
                            "</table>\n"
                        ],
                        "text/latex": [
                            "A data.frame: 17 × 3\n",
                            "\\begin{tabular}{r|lll}\n",
                            "  & statistic & p.value & method\\\\\n",
                            "  & <named list> & <chr> & <named list>\\\\\n",
                            "\\hline\n",
                            "\tSTUDYYEAR & 0.8988441 & p<0.05 & Shapiro-Wilk normality test\\\\\n",
                            "\tMYOPIC & 0.3972498 & p<0.05 & Shapiro-Wilk normality test\\\\\n",
                            "\tAGE & 0.6476244 & p<0.05 & Shapiro-Wilk normality test\\\\\n",
                            "\tGENDER & 0.6363741 & p<0.05 & Shapiro-Wilk normality test\\\\\n",
                            "\tSPHEQ & 0.892849 & p<0.05 & Shapiro-Wilk normality test\\\\\n",
                            "\tAL & 0.9974372 & p=0.45 & Shapiro-Wilk normality test\\\\\n",
                            "\tACD & 0.9980938 & p=0.75 & Shapiro-Wilk normality test\\\\\n",
                            "\tLT & 0.9968676 & p=0.30 & Shapiro-Wilk normality test\\\\\n",
                            "\tVCD & 0.9963458 & p=0.15 & Shapiro-Wilk normality test\\\\\n",
                            "\tSPORTHR & 0.9309436 & p<0.05 & Shapiro-Wilk normality test\\\\\n",
                            "\tREADHR & 0.8322593 & p<0.05 & Shapiro-Wilk normality test\\\\\n",
                            "\tCOMPHR & 0.6702958 & p<0.05 & Shapiro-Wilk normality test\\\\\n",
                            "\tSTUDYHR & 0.6734526 & p<0.05 & Shapiro-Wilk normality test\\\\\n",
                            "\tTVHR & 0.9321961 & p<0.05 & Shapiro-Wilk normality test\\\\\n",
                            "\tDIOPTERHR & 0.9029071 & p<0.05 & Shapiro-Wilk normality test\\\\\n",
                            "\tMOMMY & 0.6364998 & p<0.05 & Shapiro-Wilk normality test\\\\\n",
                            "\tDADMY & 0.636557 & p<0.05 & Shapiro-Wilk normality test\\\\\n",
                            "\\end{tabular}\n"
                        ],
                        "text/markdown": [
                            "\n",
                            "A data.frame: 17 × 3\n",
                            "\n",
                            "| <!--/--> | statistic &lt;named list&gt; | p.value &lt;chr&gt; | method &lt;named list&gt; |\n",
                            "|---|---|---|---|\n",
                            "| STUDYYEAR | 0.8988441 | p&lt;0.05 | Shapiro-Wilk normality test |\n",
                            "| MYOPIC | 0.3972498 | p&lt;0.05 | Shapiro-Wilk normality test |\n",
                            "| AGE | 0.6476244 | p&lt;0.05 | Shapiro-Wilk normality test |\n",
                            "| GENDER | 0.6363741 | p&lt;0.05 | Shapiro-Wilk normality test |\n",
                            "| SPHEQ | 0.892849 | p&lt;0.05 | Shapiro-Wilk normality test |\n",
                            "| AL | 0.9974372 | p=0.45 | Shapiro-Wilk normality test |\n",
                            "| ACD | 0.9980938 | p=0.75 | Shapiro-Wilk normality test |\n",
                            "| LT | 0.9968676 | p=0.30 | Shapiro-Wilk normality test |\n",
                            "| VCD | 0.9963458 | p=0.15 | Shapiro-Wilk normality test |\n",
                            "| SPORTHR | 0.9309436 | p&lt;0.05 | Shapiro-Wilk normality test |\n",
                            "| READHR | 0.8322593 | p&lt;0.05 | Shapiro-Wilk normality test |\n",
                            "| COMPHR | 0.6702958 | p&lt;0.05 | Shapiro-Wilk normality test |\n",
                            "| STUDYHR | 0.6734526 | p&lt;0.05 | Shapiro-Wilk normality test |\n",
                            "| TVHR | 0.9321961 | p&lt;0.05 | Shapiro-Wilk normality test |\n",
                            "| DIOPTERHR | 0.9029071 | p&lt;0.05 | Shapiro-Wilk normality test |\n",
                            "| MOMMY | 0.6364998 | p&lt;0.05 | Shapiro-Wilk normality test |\n",
                            "| DADMY | 0.636557 | p&lt;0.05 | Shapiro-Wilk normality test |\n",
                            "\n"
                        ],
                        "text/plain": [
                            "          statistic p.value method                     \n",
                            "STUDYYEAR 0.8988441 p<0.05  Shapiro-Wilk normality test\n",
                            "MYOPIC    0.3972498 p<0.05  Shapiro-Wilk normality test\n",
                            "AGE       0.6476244 p<0.05  Shapiro-Wilk normality test\n",
                            "GENDER    0.6363741 p<0.05  Shapiro-Wilk normality test\n",
                            "SPHEQ     0.892849  p<0.05  Shapiro-Wilk normality test\n",
                            "AL        0.9974372 p=0.45  Shapiro-Wilk normality test\n",
                            "ACD       0.9980938 p=0.75  Shapiro-Wilk normality test\n",
                            "LT        0.9968676 p=0.30  Shapiro-Wilk normality test\n",
                            "VCD       0.9963458 p=0.15  Shapiro-Wilk normality test\n",
                            "SPORTHR   0.9309436 p<0.05  Shapiro-Wilk normality test\n",
                            "READHR    0.8322593 p<0.05  Shapiro-Wilk normality test\n",
                            "COMPHR    0.6702958 p<0.05  Shapiro-Wilk normality test\n",
                            "STUDYHR   0.6734526 p<0.05  Shapiro-Wilk normality test\n",
                            "TVHR      0.9321961 p<0.05  Shapiro-Wilk normality test\n",
                            "DIOPTERHR 0.9029071 p<0.05  Shapiro-Wilk normality test\n",
                            "MOMMY     0.6364998 p<0.05  Shapiro-Wilk normality test\n",
                            "DADMY     0.636557  p<0.05  Shapiro-Wilk normality test"
                        ]
                    },
                    "metadata": {},
                    "output_type": "display_data"
                }
            ],
            "source": [
                "results_01 <- lapply(df, shapiro.test)\n",
                "shapiro_data <- as.data.frame(do.call(rbind, results_01))\n",
                "shapiro_data <- shapiro_data[-c(1), ]\n",
                "\n",
                "# p-value check\n",
                "\n",
                "p <- c(as.numeric(shapiro_data$p.value))\n",
                "\n",
                "\n",
                "shapiro_data$p.value <- scales::pvalue(p,\n",
                "  accuracy = 0.05,\n",
                "  decimal.mark = \".\",\n",
                "  add_p = TRUE\n",
                ")\n",
                "\n",
                "shapiro_data %>%\n",
                "  filter(!is.na(as.numeric(shapiro_data$statistic))) %>%\n",
                "  select(!data.name)\n"
            ]
        },
        {
            "cell_type": "markdown",
            "metadata": {},
            "source": [
                "<u>**Comment**</u><br>\n",
                "\n",
                "Since the p values of the Axial Length (AL), Anterior Chamber Depth (ACD), Lens Thickness (LT) and Vitreous Chamber Depth (VCD) variables are greater than 0.05, these variables provide the assumption of normality.\n",
                "\n",
                "The GENDER variable returns 0 = Male and 1 = Female, but these should not be considered numeric as they are just levels.\n",
                "In order for such variables to be treated as factors rather than numbers, we need to explicitly convert them to factors using the `as.factor()` function.\n"
            ]
        },
        {
            "cell_type": "code",
            "execution_count": 8,
            "metadata": {
                "vscode": {
                    "languageId": "r"
                }
            },
            "outputs": [],
            "source": [
                "df$AGE <- as.factor(df$AGE)\n",
                "df$MYOPIC <- as.factor(df$MYOPIC)\n",
                "df$GENDER <- as.factor(df$GENDER)\n",
                "df$MOMMY <- as.factor(df$MOMMY)\n",
                "df$DADMY <- as.factor(df$DADMY)\n"
            ]
        },
        {
            "attachments": {},
            "cell_type": "markdown",
            "metadata": {},
            "source": [
                "<a id='anova'></a>\n",
                "\n",
                "# Analysis of Variance (ANOVA)\n",
                "\n",
                "ANOVA is a statistical method that separates observed variance data into different components to use for additional tests [[ref]](https://www.investopedia.com/terms/a/anova.asp).\n",
                "\n",
                "**_A one-way ANOVA uses one independent variable, while a two-way ANOVA uses two independent variables_** [[ref]](https://www.scribbr.com/statistics/one-way-anova/).\n",
                "\n",
                "<a id='one-way-anova'></a>\n",
                "\n",
                "## One-way ANOVA\n",
                "\n",
                "> Dependent Variable: Lens Thickness (LT)\n",
                ">\n",
                "> Independent Variable (\"Factor\"): Gender\n",
                "\n",
                "<a id='one-way-anova-levene'></a>\n",
                "\n",
                "### Levene's Test\n",
                "\n",
                "Levene's test is an inferential statistic used to evaluate the **equality of variances** for a variable determined for two or more groups [[ref]](https://www.geeksforgeeks.org/levenes-test-in-r-programming/).\n",
                "\n",
                "For Equality of Variance,\n",
                "\n",
                "- H0: Variances are homogeneous.\n",
                "- H1: The variance is not homogeneous.\n"
            ]
        },
        {
            "cell_type": "code",
            "execution_count": 9,
            "metadata": {
                "vscode": {
                    "languageId": "r"
                }
            },
            "outputs": [
                {
                    "name": "stdout",
                    "output_type": "stream",
                    "text": [
                        "[1] \"AL - Axial Length\"\n"
                    ]
                },
                {
                    "data": {
                        "text/html": [
                            "<table class=\"dataframe\">\n",
                            "<caption>A tibble: 1 × 4</caption>\n",
                            "<thead>\n",
                            "\t<tr><th scope=col>df1</th><th scope=col>df2</th><th scope=col>statistic</th><th scope=col>p</th></tr>\n",
                            "\t<tr><th scope=col>&lt;int&gt;</th><th scope=col>&lt;int&gt;</th><th scope=col>&lt;dbl&gt;</th><th scope=col>&lt;dbl&gt;</th></tr>\n",
                            "</thead>\n",
                            "<tbody>\n",
                            "\t<tr><td>1</td><td>616</td><td>0.1506335</td><td>0.6980648</td></tr>\n",
                            "</tbody>\n",
                            "</table>\n"
                        ],
                        "text/latex": [
                            "A tibble: 1 × 4\n",
                            "\\begin{tabular}{llll}\n",
                            " df1 & df2 & statistic & p\\\\\n",
                            " <int> & <int> & <dbl> & <dbl>\\\\\n",
                            "\\hline\n",
                            "\t 1 & 616 & 0.1506335 & 0.6980648\\\\\n",
                            "\\end{tabular}\n"
                        ],
                        "text/markdown": [
                            "\n",
                            "A tibble: 1 × 4\n",
                            "\n",
                            "| df1 &lt;int&gt; | df2 &lt;int&gt; | statistic &lt;dbl&gt; | p &lt;dbl&gt; |\n",
                            "|---|---|---|---|\n",
                            "| 1 | 616 | 0.1506335 | 0.6980648 |\n",
                            "\n"
                        ],
                        "text/plain": [
                            "  df1 df2 statistic p        \n",
                            "1 1   616 0.1506335 0.6980648"
                        ]
                    },
                    "metadata": {},
                    "output_type": "display_data"
                },
                {
                    "name": "stdout",
                    "output_type": "stream",
                    "text": [
                        "[1] \"ACD - Anterior Chamber Depth\"\n"
                    ]
                },
                {
                    "data": {
                        "text/html": [
                            "<table class=\"dataframe\">\n",
                            "<caption>A tibble: 1 × 4</caption>\n",
                            "<thead>\n",
                            "\t<tr><th scope=col>df1</th><th scope=col>df2</th><th scope=col>statistic</th><th scope=col>p</th></tr>\n",
                            "\t<tr><th scope=col>&lt;int&gt;</th><th scope=col>&lt;int&gt;</th><th scope=col>&lt;dbl&gt;</th><th scope=col>&lt;dbl&gt;</th></tr>\n",
                            "</thead>\n",
                            "<tbody>\n",
                            "\t<tr><td>1</td><td>616</td><td>1.866422</td><td>0.172384</td></tr>\n",
                            "</tbody>\n",
                            "</table>\n"
                        ],
                        "text/latex": [
                            "A tibble: 1 × 4\n",
                            "\\begin{tabular}{llll}\n",
                            " df1 & df2 & statistic & p\\\\\n",
                            " <int> & <int> & <dbl> & <dbl>\\\\\n",
                            "\\hline\n",
                            "\t 1 & 616 & 1.866422 & 0.172384\\\\\n",
                            "\\end{tabular}\n"
                        ],
                        "text/markdown": [
                            "\n",
                            "A tibble: 1 × 4\n",
                            "\n",
                            "| df1 &lt;int&gt; | df2 &lt;int&gt; | statistic &lt;dbl&gt; | p &lt;dbl&gt; |\n",
                            "|---|---|---|---|\n",
                            "| 1 | 616 | 1.866422 | 0.172384 |\n",
                            "\n"
                        ],
                        "text/plain": [
                            "  df1 df2 statistic p       \n",
                            "1 1   616 1.866422  0.172384"
                        ]
                    },
                    "metadata": {},
                    "output_type": "display_data"
                },
                {
                    "name": "stdout",
                    "output_type": "stream",
                    "text": [
                        "[1] \"LT - Lens Thickness\"\n"
                    ]
                },
                {
                    "data": {
                        "text/html": [
                            "<table class=\"dataframe\">\n",
                            "<caption>A tibble: 1 × 4</caption>\n",
                            "<thead>\n",
                            "\t<tr><th scope=col>df1</th><th scope=col>df2</th><th scope=col>statistic</th><th scope=col>p</th></tr>\n",
                            "\t<tr><th scope=col>&lt;int&gt;</th><th scope=col>&lt;int&gt;</th><th scope=col>&lt;dbl&gt;</th><th scope=col>&lt;dbl&gt;</th></tr>\n",
                            "</thead>\n",
                            "<tbody>\n",
                            "\t<tr><td>1</td><td>616</td><td>0.2940678</td><td>0.5878216</td></tr>\n",
                            "</tbody>\n",
                            "</table>\n"
                        ],
                        "text/latex": [
                            "A tibble: 1 × 4\n",
                            "\\begin{tabular}{llll}\n",
                            " df1 & df2 & statistic & p\\\\\n",
                            " <int> & <int> & <dbl> & <dbl>\\\\\n",
                            "\\hline\n",
                            "\t 1 & 616 & 0.2940678 & 0.5878216\\\\\n",
                            "\\end{tabular}\n"
                        ],
                        "text/markdown": [
                            "\n",
                            "A tibble: 1 × 4\n",
                            "\n",
                            "| df1 &lt;int&gt; | df2 &lt;int&gt; | statistic &lt;dbl&gt; | p &lt;dbl&gt; |\n",
                            "|---|---|---|---|\n",
                            "| 1 | 616 | 0.2940678 | 0.5878216 |\n",
                            "\n"
                        ],
                        "text/plain": [
                            "  df1 df2 statistic p        \n",
                            "1 1   616 0.2940678 0.5878216"
                        ]
                    },
                    "metadata": {},
                    "output_type": "display_data"
                },
                {
                    "name": "stdout",
                    "output_type": "stream",
                    "text": [
                        "[1] \"VCD - Vitreous Chamber Depth\"\n"
                    ]
                },
                {
                    "data": {
                        "text/html": [
                            "<table class=\"dataframe\">\n",
                            "<caption>A tibble: 1 × 4</caption>\n",
                            "<thead>\n",
                            "\t<tr><th scope=col>df1</th><th scope=col>df2</th><th scope=col>statistic</th><th scope=col>p</th></tr>\n",
                            "\t<tr><th scope=col>&lt;int&gt;</th><th scope=col>&lt;int&gt;</th><th scope=col>&lt;dbl&gt;</th><th scope=col>&lt;dbl&gt;</th></tr>\n",
                            "</thead>\n",
                            "<tbody>\n",
                            "\t<tr><td>1</td><td>616</td><td>0.1236948</td><td>0.7251815</td></tr>\n",
                            "</tbody>\n",
                            "</table>\n"
                        ],
                        "text/latex": [
                            "A tibble: 1 × 4\n",
                            "\\begin{tabular}{llll}\n",
                            " df1 & df2 & statistic & p\\\\\n",
                            " <int> & <int> & <dbl> & <dbl>\\\\\n",
                            "\\hline\n",
                            "\t 1 & 616 & 0.1236948 & 0.7251815\\\\\n",
                            "\\end{tabular}\n"
                        ],
                        "text/markdown": [
                            "\n",
                            "A tibble: 1 × 4\n",
                            "\n",
                            "| df1 &lt;int&gt; | df2 &lt;int&gt; | statistic &lt;dbl&gt; | p &lt;dbl&gt; |\n",
                            "|---|---|---|---|\n",
                            "| 1 | 616 | 0.1236948 | 0.7251815 |\n",
                            "\n"
                        ],
                        "text/plain": [
                            "  df1 df2 statistic p        \n",
                            "1 1   616 0.1236948 0.7251815"
                        ]
                    },
                    "metadata": {},
                    "output_type": "display_data"
                }
            ],
            "source": [
                "# examine whether it has equal variance\n",
                "\n",
                "print(\"AL - Axial Length\")\n",
                "levene_test(data = df, AL ~ GENDER, center = mean)\n",
                "\n",
                "print(\"ACD - Anterior Chamber Depth\")\n",
                "levene_test(data = df, ACD ~ GENDER, center = mean)\n",
                "\n",
                "print(\"LT - Lens Thickness\")\n",
                "levene_test(data = df, LT ~ GENDER, center = mean)\n",
                "\n",
                "print(\"VCD - Vitreous Chamber Depth\")\n",
                "levene_test(data = df, VCD ~ GENDER, center = mean)\n"
            ]
        },
        {
            "cell_type": "markdown",
            "metadata": {},
            "source": [
                "<u>**Comment**</u><br>\n",
                "\n",
                "Since p values are greater than 0.05, the H0 hypothesis is accepted variances can be considered homogeneous.\n",
                "\n",
                "<a id='one-way-anova-descr'></a>\n",
                "\n",
                "### Descriptive Statistics\n"
            ]
        },
        {
            "cell_type": "code",
            "execution_count": 10,
            "metadata": {
                "vscode": {
                    "languageId": "r"
                }
            },
            "outputs": [
                {
                    "data": {
                        "text/html": [
                            "<table class=\"dataframe\">\n",
                            "<caption>A tibble: 2 × 9</caption>\n",
                            "<thead>\n",
                            "\t<tr><th scope=col>GENDER</th><th scope=col>n</th><th scope=col>mean</th><th scope=col>sd</th><th scope=col>se</th><th scope=col>LCL</th><th scope=col>UCL</th><th scope=col>min</th><th scope=col>max</th></tr>\n",
                            "\t<tr><th scope=col>&lt;fct&gt;</th><th scope=col>&lt;int&gt;</th><th scope=col>&lt;dbl&gt;</th><th scope=col>&lt;dbl&gt;</th><th scope=col>&lt;dbl&gt;</th><th scope=col>&lt;dbl&gt;</th><th scope=col>&lt;dbl&gt;</th><th scope=col>&lt;dbl&gt;</th><th scope=col>&lt;dbl&gt;</th></tr>\n",
                            "</thead>\n",
                            "<tbody>\n",
                            "\t<tr><td>0</td><td>316</td><td>3.530152</td><td>0.1510087</td><td>0.008494901</td><td>3.513438</td><td>3.546866</td><td>3.154</td><td>3.940</td></tr>\n",
                            "\t<tr><td>1</td><td>302</td><td>3.553278</td><td>0.1574916</td><td>0.009062622</td><td>3.535444</td><td>3.571112</td><td>2.960</td><td>4.112</td></tr>\n",
                            "</tbody>\n",
                            "</table>\n"
                        ],
                        "text/latex": [
                            "A tibble: 2 × 9\n",
                            "\\begin{tabular}{lllllllll}\n",
                            " GENDER & n & mean & sd & se & LCL & UCL & min & max\\\\\n",
                            " <fct> & <int> & <dbl> & <dbl> & <dbl> & <dbl> & <dbl> & <dbl> & <dbl>\\\\\n",
                            "\\hline\n",
                            "\t 0 & 316 & 3.530152 & 0.1510087 & 0.008494901 & 3.513438 & 3.546866 & 3.154 & 3.940\\\\\n",
                            "\t 1 & 302 & 3.553278 & 0.1574916 & 0.009062622 & 3.535444 & 3.571112 & 2.960 & 4.112\\\\\n",
                            "\\end{tabular}\n"
                        ],
                        "text/markdown": [
                            "\n",
                            "A tibble: 2 × 9\n",
                            "\n",
                            "| GENDER &lt;fct&gt; | n &lt;int&gt; | mean &lt;dbl&gt; | sd &lt;dbl&gt; | se &lt;dbl&gt; | LCL &lt;dbl&gt; | UCL &lt;dbl&gt; | min &lt;dbl&gt; | max &lt;dbl&gt; |\n",
                            "|---|---|---|---|---|---|---|---|---|\n",
                            "| 0 | 316 | 3.530152 | 0.1510087 | 0.008494901 | 3.513438 | 3.546866 | 3.154 | 3.940 |\n",
                            "| 1 | 302 | 3.553278 | 0.1574916 | 0.009062622 | 3.535444 | 3.571112 | 2.960 | 4.112 |\n",
                            "\n"
                        ],
                        "text/plain": [
                            "  GENDER n   mean     sd        se          LCL      UCL      min   max  \n",
                            "1 0      316 3.530152 0.1510087 0.008494901 3.513438 3.546866 3.154 3.940\n",
                            "2 1      302 3.553278 0.1574916 0.009062622 3.535444 3.571112 2.960 4.112"
                        ]
                    },
                    "metadata": {},
                    "output_type": "display_data"
                }
            ],
            "source": [
                "group_by(df, GENDER) %>%\n",
                "  summarise(\n",
                "    n = n(),\n",
                "    mean = mean(LT, na.rm = TRUE),\n",
                "    sd = sd(LT, na.rm = TRUE),\n",
                "    se = sd / sqrt(n),\n",
                "    LCL = mean - qt(1 - (0.05 / 2), n - 1) * se,\n",
                "    UCL = mean + qt(1 - (0.05 / 2), n - 1) * se,\n",
                "    min = min(LT, na.rm = TRUE),\n",
                "    max = max(LT, na.rm = TRUE)\n",
                "  )\n"
            ]
        },
        {
            "cell_type": "markdown",
            "metadata": {},
            "source": [
                "For Output;\n",
                "\n",
                "- n : The number of observations for each gender.\n",
                "\n",
                "- mean : The mean value for each gender.\n",
                "\n",
                "- median : The median value for each gender.\n",
                "\n",
                "- sd : Standard Deviation\n",
                "\n",
                "- se : Standard Error\n",
                "\n",
                "- LCL, UCL : It means the lower and upper confidence intervals of the mean. Assuming that the data are normally distributed, we can be 95% sure that the true mean is between the lower and upper values indicated for each treatment group.\n",
                "\n",
                "- min, max : The minimum and maximum value for each gender.\n",
                "\n",
                "<a id='one-way-anova-table'></a>\n",
                "\n",
                "### ANOVA Table\n"
            ]
        },
        {
            "cell_type": "code",
            "execution_count": 11,
            "metadata": {
                "vscode": {
                    "languageId": "r"
                }
            },
            "outputs": [
                {
                    "name": "stdout",
                    "output_type": "stream",
                    "text": [
                        "\n",
                        "\n",
                        "|    &nbsp;     | Df  | Sum Sq  | Mean Sq | F value | Pr(>F)  |\n",
                        "|:-------------:|:---:|:-------:|:-------:|:-------:|:-------:|\n",
                        "|  **GENDER**   |  1  | 0.08259 | 0.08259 |  3.473  | 0.06286 |\n",
                        "| **Residuals** | 616 |  14.65  | 0.02378 |   NA    |   NA    |\n",
                        "\n",
                        "Table: Analysis of Variance Model\n",
                        "\n"
                    ]
                }
            ],
            "source": [
                "model_a1 <- aov(LT ~ GENDER, data = df)\n",
                "\n",
                "pander(summary(model_a1))\n"
            ]
        },
        {
            "attachments": {},
            "cell_type": "markdown",
            "metadata": {},
            "source": [
                "In the ANOVA Table, it was tested whether there was a difference in lens thickness between the groups.\n",
                "\n",
                "- H0: There is no difference\n",
                "\n",
                "- H1: There is difference\n",
                "\n",
                "<u>**Comment**</u><br>\n",
                "\n",
                "This output indicates whether the results between groups are significant.\n",
                "The columns for the F value and Pr(\\>F) in the table correspond to the p-value.\n",
                "We know that H0 will be rejected if it is less than 0.05.\n",
                "\n",
                "Pr(\\>F) value is 0.0629.\n",
                "In this case, since the thickness of the lens is greater than 0.05, it can be considered that there is no difference.\n",
                "\n",
                "<u>**NOTE**</u><br>\n",
                "For _IBM SPSS Statistics_ : `Analyze > Compare Means > One-Way ANOVA`. You can perform the analysis by ticking the ones you want in the \"Options\" section.\n",
                "\n",
                "<a id='two-way-anova'></a>\n",
                "\n",
                "## Two-way ANOVA\n",
                "\n",
                "> Dependent Variables: Spherical Equivalent Refraction (SPHEQ)\n",
                ">\n",
                "> Independent Variables (\"Factors\"): GENDER, AGE\n",
                "\n",
                "<a id='two-way-anova-levene'></a>\n",
                "\n",
                "### Levene's Test\n"
            ]
        },
        {
            "cell_type": "code",
            "execution_count": 12,
            "metadata": {
                "vscode": {
                    "languageId": "r"
                }
            },
            "outputs": [
                {
                    "data": {
                        "text/html": [
                            "<table class=\"dataframe\">\n",
                            "<caption>A tibble: 1 × 4</caption>\n",
                            "<thead>\n",
                            "\t<tr><th scope=col>df1</th><th scope=col>df2</th><th scope=col>statistic</th><th scope=col>p</th></tr>\n",
                            "\t<tr><th scope=col>&lt;int&gt;</th><th scope=col>&lt;int&gt;</th><th scope=col>&lt;dbl&gt;</th><th scope=col>&lt;dbl&gt;</th></tr>\n",
                            "</thead>\n",
                            "<tbody>\n",
                            "\t<tr><td>9</td><td>608</td><td>0.6516839</td><td>0.7527991</td></tr>\n",
                            "</tbody>\n",
                            "</table>\n"
                        ],
                        "text/latex": [
                            "A tibble: 1 × 4\n",
                            "\\begin{tabular}{llll}\n",
                            " df1 & df2 & statistic & p\\\\\n",
                            " <int> & <int> & <dbl> & <dbl>\\\\\n",
                            "\\hline\n",
                            "\t 9 & 608 & 0.6516839 & 0.7527991\\\\\n",
                            "\\end{tabular}\n"
                        ],
                        "text/markdown": [
                            "\n",
                            "A tibble: 1 × 4\n",
                            "\n",
                            "| df1 &lt;int&gt; | df2 &lt;int&gt; | statistic &lt;dbl&gt; | p &lt;dbl&gt; |\n",
                            "|---|---|---|---|\n",
                            "| 9 | 608 | 0.6516839 | 0.7527991 |\n",
                            "\n"
                        ],
                        "text/plain": [
                            "  df1 df2 statistic p        \n",
                            "1 9   608 0.6516839 0.7527991"
                        ]
                    },
                    "metadata": {},
                    "output_type": "display_data"
                }
            ],
            "source": [
                "levene_test(data = df, SPHEQ ~ GENDER * AGE, center = mean)\n"
            ]
        },
        {
            "cell_type": "markdown",
            "metadata": {},
            "source": [
                "<u>**Comment**</u><br>\n",
                "\n",
                "Since the p-values are greater than 0.05, the H0 hypothesis is <u>accepted</u> and it can be said that the variances are homogeneous.\n",
                "\n",
                "<a id='two-way-anova-descr'></a>\n",
                "\n",
                "### Descriptive Statistics\n"
            ]
        },
        {
            "cell_type": "code",
            "execution_count": 13,
            "metadata": {
                "vscode": {
                    "languageId": "r"
                }
            },
            "outputs": [
                {
                    "data": {
                        "text/html": [
                            "<table class=\"dataframe\">\n",
                            "<caption>A tibble: 10 × 5</caption>\n",
                            "<thead>\n",
                            "\t<tr><th scope=col>GENDER</th><th scope=col>AGE</th><th scope=col>mean</th><th scope=col>sd</th><th scope=col>n</th></tr>\n",
                            "\t<tr><th scope=col>&lt;fct&gt;</th><th scope=col>&lt;fct&gt;</th><th scope=col>&lt;dbl&gt;</th><th scope=col>&lt;dbl&gt;</th><th scope=col>&lt;int&gt;</th></tr>\n",
                            "</thead>\n",
                            "<tbody>\n",
                            "\t<tr><td>0</td><td>5</td><td> 0.4418000</td><td>0.3006795</td><td> 10</td></tr>\n",
                            "\t<tr><td>0</td><td>6</td><td> 0.8398419</td><td>0.6180858</td><td>215</td></tr>\n",
                            "\t<tr><td>0</td><td>7</td><td> 0.8413333</td><td>0.6389336</td><td> 63</td></tr>\n",
                            "\t<tr><td>0</td><td>8</td><td> 0.4080435</td><td>0.3184835</td><td> 23</td></tr>\n",
                            "\t<tr><td>0</td><td>9</td><td>-0.1046000</td><td>0.5504101</td><td>  5</td></tr>\n",
                            "\t<tr><td>1</td><td>5</td><td> 0.6217273</td><td>0.5195924</td><td> 11</td></tr>\n",
                            "\t<tr><td>1</td><td>6</td><td> 0.8558548</td><td>0.6275674</td><td>241</td></tr>\n",
                            "\t<tr><td>1</td><td>7</td><td> 0.7808947</td><td>0.5519041</td><td> 19</td></tr>\n",
                            "\t<tr><td>1</td><td>8</td><td> 0.6289667</td><td>0.7435502</td><td> 30</td></tr>\n",
                            "\t<tr><td>1</td><td>9</td><td> 1.3680000</td><td>       NA</td><td>  1</td></tr>\n",
                            "</tbody>\n",
                            "</table>\n"
                        ],
                        "text/latex": [
                            "A tibble: 10 × 5\n",
                            "\\begin{tabular}{lllll}\n",
                            " GENDER & AGE & mean & sd & n\\\\\n",
                            " <fct> & <fct> & <dbl> & <dbl> & <int>\\\\\n",
                            "\\hline\n",
                            "\t 0 & 5 &  0.4418000 & 0.3006795 &  10\\\\\n",
                            "\t 0 & 6 &  0.8398419 & 0.6180858 & 215\\\\\n",
                            "\t 0 & 7 &  0.8413333 & 0.6389336 &  63\\\\\n",
                            "\t 0 & 8 &  0.4080435 & 0.3184835 &  23\\\\\n",
                            "\t 0 & 9 & -0.1046000 & 0.5504101 &   5\\\\\n",
                            "\t 1 & 5 &  0.6217273 & 0.5195924 &  11\\\\\n",
                            "\t 1 & 6 &  0.8558548 & 0.6275674 & 241\\\\\n",
                            "\t 1 & 7 &  0.7808947 & 0.5519041 &  19\\\\\n",
                            "\t 1 & 8 &  0.6289667 & 0.7435502 &  30\\\\\n",
                            "\t 1 & 9 &  1.3680000 &        NA &   1\\\\\n",
                            "\\end{tabular}\n"
                        ],
                        "text/markdown": [
                            "\n",
                            "A tibble: 10 × 5\n",
                            "\n",
                            "| GENDER &lt;fct&gt; | AGE &lt;fct&gt; | mean &lt;dbl&gt; | sd &lt;dbl&gt; | n &lt;int&gt; |\n",
                            "|---|---|---|---|---|\n",
                            "| 0 | 5 |  0.4418000 | 0.3006795 |  10 |\n",
                            "| 0 | 6 |  0.8398419 | 0.6180858 | 215 |\n",
                            "| 0 | 7 |  0.8413333 | 0.6389336 |  63 |\n",
                            "| 0 | 8 |  0.4080435 | 0.3184835 |  23 |\n",
                            "| 0 | 9 | -0.1046000 | 0.5504101 |   5 |\n",
                            "| 1 | 5 |  0.6217273 | 0.5195924 |  11 |\n",
                            "| 1 | 6 |  0.8558548 | 0.6275674 | 241 |\n",
                            "| 1 | 7 |  0.7808947 | 0.5519041 |  19 |\n",
                            "| 1 | 8 |  0.6289667 | 0.7435502 |  30 |\n",
                            "| 1 | 9 |  1.3680000 |        NA |   1 |\n",
                            "\n"
                        ],
                        "text/plain": [
                            "   GENDER AGE mean       sd        n  \n",
                            "1  0      5    0.4418000 0.3006795  10\n",
                            "2  0      6    0.8398419 0.6180858 215\n",
                            "3  0      7    0.8413333 0.6389336  63\n",
                            "4  0      8    0.4080435 0.3184835  23\n",
                            "5  0      9   -0.1046000 0.5504101   5\n",
                            "6  1      5    0.6217273 0.5195924  11\n",
                            "7  1      6    0.8558548 0.6275674 241\n",
                            "8  1      7    0.7808947 0.5519041  19\n",
                            "9  1      8    0.6289667 0.7435502  30\n",
                            "10 1      9    1.3680000        NA   1"
                        ]
                    },
                    "metadata": {},
                    "output_type": "display_data"
                }
            ],
            "source": [
                "group_by(df, GENDER, AGE) %>%\n",
                "  summarise(\n",
                "    mean = mean(SPHEQ, na.rm = TRUE),\n",
                "    sd = sd(SPHEQ, na.rm = TRUE),\n",
                "    n = n(), .groups = \"drop\"\n",
                "  )\n"
            ]
        },
        {
            "cell_type": "markdown",
            "metadata": {},
            "source": [
                "<a id='two-way-anova-table'></a>\n",
                "\n",
                "### ANOVA Table\n"
            ]
        },
        {
            "cell_type": "code",
            "execution_count": 14,
            "metadata": {
                "vscode": {
                    "languageId": "r"
                }
            },
            "outputs": [
                {
                    "name": "stdout",
                    "output_type": "stream",
                    "text": [
                        "\n",
                        "\n",
                        "|   Effect    |  SSn  |  SSd  | DFn | DFd |   F   |    p     | p<.05 |  ges  |\n",
                        "|:-----------:|:-----:|:-----:|:---:|:---:|:-----:|:--------:|:-----:|:-----:|\n",
                        "| (Intercept) | 28.9  | 230.1 |  1  | 608 | 76.37 | 2.28e-17 |   *   | 0.112 |\n",
                        "|   GENDER    | 2.165 | 230.1 |  1  | 608 | 5.722 |  0.017   |   *   | 0.009 |\n",
                        "|     AGE     | 6.772 | 230.1 |  4  | 608 | 4.474 |  0.001   |   *   | 0.029 |\n",
                        "| GENDER:AGE  | 2.452 | 230.1 |  4  | 608 | 1.62  |  0.168   |       | 0.011 |\n",
                        "\n"
                    ]
                }
            ],
            "source": [
                "model_a2 <- lm(\n",
                "  SPHEQ ~ GENDER * AGE,\n",
                "  data = df,\n",
                "  contrasts = list(GENDER = contr.sum, AGE = contr.sum)\n",
                ")\n",
                "\n",
                "two_way <- anova_test(model_a2,\n",
                "  type = 3,\n",
                "  detailed = TRUE\n",
                ")\n",
                "\n",
                "pander(two_way)\n"
            ]
        },
        {
            "cell_type": "markdown",
            "metadata": {},
            "source": [
                "For Output;\n",
                "\n",
                "Table: Tests of Between-Subjects Effects\n",
                "\n",
                "- SSn: Type III Sum of Squares\n",
                "- DFn: df, degrees of freedom\n",
                "- p: Sig., significance level\n",
                "- ges: Partial Eta Squared\n",
                "\n",
                "<u>**Comment**</u><br>\n",
                "\n",
                "This output indicates whether the independent categorical variables or their interactions are statistically significant.\n",
                "Here we should look at the p-values (GENDER, AGE, GENDER:AGE).\n",
                "\n",
                "- The p-value for gender is 0.0170 ((p ≤ 0.05) : **reject** H0).\n",
                "\n",
                "There is a difference in Spherical Equivalent Refraction (SPHEQ) level between men and women.\n",
                "\n",
                "- The p-value for age is 0.0014 ((p ≤ 0.05) : **reject** H0).\n",
                "\n",
                "There is a difference in the Spherical Equivalent Refraction (SPHEQ) level between the ages.\n",
                "\n",
                "- The p-value for the interaction between gender and age is 0.1676.\n",
                "\n",
                "<u>**NOTE**</u><br>\n",
                "\n",
                "For _IBM SPSS Statistics_ : `Analyze > General Linear Model > Univariate`. You can perform the analysis by ticking the ones you want in the \"Options\" section.\n",
                "\n",
                "<a id='two-way-anova-tukey'></a>\n",
                "\n",
                "### Tukey Test\n",
                "\n",
                "The results of the test for homogeneity of variance (Levene's Test) showed that they had equal variances. In the later ANOVA test, H0 was rejected. For this reason, it is necessary to look at the results of the Tukey HSD test.\n",
                "\n",
                "The column mean difference shows the difference between the means of the two groups being compared.\n"
            ]
        },
        {
            "cell_type": "code",
            "execution_count": 15,
            "metadata": {
                "vscode": {
                    "languageId": "r"
                }
            },
            "outputs": [
                {
                    "data": {
                        "text/html": [
                            "<table class=\"dataframe\">\n",
                            "<caption>A rstatix_test: 10 × 9</caption>\n",
                            "<thead>\n",
                            "\t<tr><th></th><th scope=col>term</th><th scope=col>group1</th><th scope=col>group2</th><th scope=col>null.value</th><th scope=col>estimate</th><th scope=col>conf.low</th><th scope=col>conf.high</th><th scope=col>p.adj</th><th scope=col>p.adj.signif</th></tr>\n",
                            "\t<tr><th></th><th scope=col>&lt;chr&gt;</th><th scope=col>&lt;chr&gt;</th><th scope=col>&lt;chr&gt;</th><th scope=col>&lt;dbl&gt;</th><th scope=col>&lt;dbl&gt;</th><th scope=col>&lt;dbl&gt;</th><th scope=col>&lt;dbl&gt;</th><th scope=col>&lt;dbl&gt;</th><th scope=col>&lt;chr&gt;</th></tr>\n",
                            "</thead>\n",
                            "<tbody>\n",
                            "\t<tr><th scope=row>1</th><td>AGE</td><td>5</td><td>6</td><td>0</td><td> 0.312066429</td><td>-0.06355348</td><td> 0.687686338</td><td>0.15500</td><td>ns</td></tr>\n",
                            "\t<tr><th scope=row>2</th><td>AGE</td><td>5</td><td>7</td><td>0</td><td> 0.303140218</td><td>-0.10846751</td><td> 0.714747948</td><td>0.26000</td><td>ns</td></tr>\n",
                            "\t<tr><th scope=row>3</th><td>AGE</td><td>5</td><td>8</td><td>0</td><td>-0.004667632</td><td>-0.43862769</td><td> 0.429292428</td><td>1.00000</td><td>ns</td></tr>\n",
                            "\t<tr><th scope=row>4</th><td>AGE</td><td>5</td><td>9</td><td>0</td><td>-0.380715241</td><td>-1.15978813</td><td> 0.398357650</td><td>0.66800</td><td>ns</td></tr>\n",
                            "\t<tr><th scope=row>5</th><td>AGE</td><td>6</td><td>7</td><td>0</td><td>-0.008926211</td><td>-0.21080155</td><td> 0.192949130</td><td>1.00000</td><td>ns</td></tr>\n",
                            "\t<tr><th scope=row>6</th><td>AGE</td><td>6</td><td>8</td><td>0</td><td>-0.316734061</td><td>-0.56097588</td><td>-0.072492246</td><td>0.00382</td><td>**</td></tr>\n",
                            "\t<tr><th scope=row>7</th><td>AGE</td><td>6</td><td>9</td><td>0</td><td>-0.692781669</td><td>-1.38436485</td><td>-0.001198486</td><td>0.04940</td><td>* </td></tr>\n",
                            "\t<tr><th scope=row>8</th><td>AGE</td><td>7</td><td>8</td><td>0</td><td>-0.307807850</td><td>-0.60442995</td><td>-0.011185749</td><td>0.03750</td><td>* </td></tr>\n",
                            "\t<tr><th scope=row>9</th><td>AGE</td><td>7</td><td>9</td><td>0</td><td>-0.683855458</td><td>-1.39562642</td><td> 0.027915506</td><td>0.06650</td><td>ns</td></tr>\n",
                            "\t<tr><th scope=row>10</th><td>AGE</td><td>8</td><td>9</td><td>0</td><td>-0.376047609</td><td>-1.10097403</td><td> 0.348878813</td><td>0.61500</td><td>ns</td></tr>\n",
                            "</tbody>\n",
                            "</table>\n"
                        ],
                        "text/latex": [
                            "A rstatix\\_test: 10 × 9\n",
                            "\\begin{tabular}{r|lllllllll}\n",
                            "  & term & group1 & group2 & null.value & estimate & conf.low & conf.high & p.adj & p.adj.signif\\\\\n",
                            "  & <chr> & <chr> & <chr> & <dbl> & <dbl> & <dbl> & <dbl> & <dbl> & <chr>\\\\\n",
                            "\\hline\n",
                            "\t1 & AGE & 5 & 6 & 0 &  0.312066429 & -0.06355348 &  0.687686338 & 0.15500 & ns\\\\\n",
                            "\t2 & AGE & 5 & 7 & 0 &  0.303140218 & -0.10846751 &  0.714747948 & 0.26000 & ns\\\\\n",
                            "\t3 & AGE & 5 & 8 & 0 & -0.004667632 & -0.43862769 &  0.429292428 & 1.00000 & ns\\\\\n",
                            "\t4 & AGE & 5 & 9 & 0 & -0.380715241 & -1.15978813 &  0.398357650 & 0.66800 & ns\\\\\n",
                            "\t5 & AGE & 6 & 7 & 0 & -0.008926211 & -0.21080155 &  0.192949130 & 1.00000 & ns\\\\\n",
                            "\t6 & AGE & 6 & 8 & 0 & -0.316734061 & -0.56097588 & -0.072492246 & 0.00382 & **\\\\\n",
                            "\t7 & AGE & 6 & 9 & 0 & -0.692781669 & -1.38436485 & -0.001198486 & 0.04940 & * \\\\\n",
                            "\t8 & AGE & 7 & 8 & 0 & -0.307807850 & -0.60442995 & -0.011185749 & 0.03750 & * \\\\\n",
                            "\t9 & AGE & 7 & 9 & 0 & -0.683855458 & -1.39562642 &  0.027915506 & 0.06650 & ns\\\\\n",
                            "\t10 & AGE & 8 & 9 & 0 & -0.376047609 & -1.10097403 &  0.348878813 & 0.61500 & ns\\\\\n",
                            "\\end{tabular}\n"
                        ],
                        "text/markdown": [
                            "\n",
                            "A rstatix_test: 10 × 9\n",
                            "\n",
                            "| <!--/--> | term &lt;chr&gt; | group1 &lt;chr&gt; | group2 &lt;chr&gt; | null.value &lt;dbl&gt; | estimate &lt;dbl&gt; | conf.low &lt;dbl&gt; | conf.high &lt;dbl&gt; | p.adj &lt;dbl&gt; | p.adj.signif &lt;chr&gt; |\n",
                            "|---|---|---|---|---|---|---|---|---|---|\n",
                            "| 1 | AGE | 5 | 6 | 0 |  0.312066429 | -0.06355348 |  0.687686338 | 0.15500 | ns |\n",
                            "| 2 | AGE | 5 | 7 | 0 |  0.303140218 | -0.10846751 |  0.714747948 | 0.26000 | ns |\n",
                            "| 3 | AGE | 5 | 8 | 0 | -0.004667632 | -0.43862769 |  0.429292428 | 1.00000 | ns |\n",
                            "| 4 | AGE | 5 | 9 | 0 | -0.380715241 | -1.15978813 |  0.398357650 | 0.66800 | ns |\n",
                            "| 5 | AGE | 6 | 7 | 0 | -0.008926211 | -0.21080155 |  0.192949130 | 1.00000 | ns |\n",
                            "| 6 | AGE | 6 | 8 | 0 | -0.316734061 | -0.56097588 | -0.072492246 | 0.00382 | ** |\n",
                            "| 7 | AGE | 6 | 9 | 0 | -0.692781669 | -1.38436485 | -0.001198486 | 0.04940 | *  |\n",
                            "| 8 | AGE | 7 | 8 | 0 | -0.307807850 | -0.60442995 | -0.011185749 | 0.03750 | *  |\n",
                            "| 9 | AGE | 7 | 9 | 0 | -0.683855458 | -1.39562642 |  0.027915506 | 0.06650 | ns |\n",
                            "| 10 | AGE | 8 | 9 | 0 | -0.376047609 | -1.10097403 |  0.348878813 | 0.61500 | ns |\n",
                            "\n"
                        ],
                        "text/plain": [
                            "   term group1 group2 null.value estimate     conf.low    conf.high    p.adj  \n",
                            "1  AGE  5      6      0           0.312066429 -0.06355348  0.687686338 0.15500\n",
                            "2  AGE  5      7      0           0.303140218 -0.10846751  0.714747948 0.26000\n",
                            "3  AGE  5      8      0          -0.004667632 -0.43862769  0.429292428 1.00000\n",
                            "4  AGE  5      9      0          -0.380715241 -1.15978813  0.398357650 0.66800\n",
                            "5  AGE  6      7      0          -0.008926211 -0.21080155  0.192949130 1.00000\n",
                            "6  AGE  6      8      0          -0.316734061 -0.56097588 -0.072492246 0.00382\n",
                            "7  AGE  6      9      0          -0.692781669 -1.38436485 -0.001198486 0.04940\n",
                            "8  AGE  7      8      0          -0.307807850 -0.60442995 -0.011185749 0.03750\n",
                            "9  AGE  7      9      0          -0.683855458 -1.39562642  0.027915506 0.06650\n",
                            "10 AGE  8      9      0          -0.376047609 -1.10097403  0.348878813 0.61500\n",
                            "   p.adj.signif\n",
                            "1  ns          \n",
                            "2  ns          \n",
                            "3  ns          \n",
                            "4  ns          \n",
                            "5  ns          \n",
                            "6  **          \n",
                            "7  *           \n",
                            "8  *           \n",
                            "9  ns          \n",
                            "10 ns          "
                        ]
                    },
                    "metadata": {},
                    "output_type": "display_data"
                }
            ],
            "source": [
                "tukey_hsd(model_a2, which = \"AGE\")\n"
            ]
        },
        {
            "attachments": {},
            "cell_type": "markdown",
            "metadata": {},
            "source": [
                "<u>**Comment**</u><br>\n",
                "\n",
                "Column Sig. (p-value) indicates whether the mean difference is statistically significant. There is a difference between 6-8, 6-9 and 7-8 years old.\n",
                "\n",
                "<u>**NOTE**</u><br>\n",
                "\n",
                "For _IBM SPSS Statistics_ : `Analyze > General Linear Model > Univariate`. You can perform the analysis by ticking the ones you want in the \"Post Hoc\" section.\n",
                "\n",
                "<a id='manova'></a>\n",
                "\n",
                "# Multivariate Analysis of Variance (MANOVA)\n",
                "\n",
                "Multivariate analysis of variance (MANOVA) is an extension of univariate analysis of variance (ANOVA) that measures the effect of independent categorical variables on a large number of dependent continuous variables.\n",
                "\n",
                "One-way MANOVA is used to determine whether there is a difference between groups (two or more) of the categorical variables on more than one continuous dependent variable.\n",
                "\n",
                "Two-way MANOVA is used to determine whether there is an interaction between two independent categorical variables on two or more continuous dependent variables.\n",
                "\n",
                "<u>**Summary**</u><br>\n",
                "\n",
                "> **One-way ANOVA**\n",
                "> 1 Independent Variable, 1 Dependent Variable\n",
                "\n",
                "> **Two-way ANOVA**\n",
                "> 2 Independent Variables, 1 Dependent\n",
                "\n",
                "> **One-way MANOVA**\n",
                "> 1 Independent Variable, 1+ Dependent Variables\n",
                "\n",
                "> **Two-way MANOVA**\n",
                "> 2 Independent Variables, 2+ Dependent Variables\n",
                "\n",
                "<a id='one-way-manova'></a>\n",
                "\n",
                "## One-way MANOVA\n",
                "\n",
                "> Dependent Variables: Anterior Chamber Depth (ACD), Axial Length (AL)\n",
                ">\n",
                "> Independent Variable (\"Factor\"): AGE\n",
                "\n",
                "<a id='one-way-manova-boxm'></a>\n",
                "\n",
                "### Homogeneity of Covariance Matrices\n",
                "\n",
                "It is an assumption that must be met in multivariate analysis. Homogeneity of covariance is when multiple groups have equal covariance matrices in an experimental design or statistical test.\n"
            ]
        },
        {
            "cell_type": "code",
            "execution_count": 16,
            "metadata": {
                "vscode": {
                    "languageId": "r"
                }
            },
            "outputs": [
                {
                    "data": {
                        "text/plain": [
                            "\n",
                            "\tBox's M-test for Homogeneity of Covariance Matrices\n",
                            "\n",
                            "data:  Y\n",
                            "Chi-Sq (approx.) = 8.82, df = 12, p-value = 0.7182\n"
                        ]
                    },
                    "metadata": {},
                    "output_type": "display_data"
                }
            ],
            "source": [
                "boxM(cbind(ACD, AL) ~ AGE, data = df)\n"
            ]
        },
        {
            "attachments": {},
            "cell_type": "markdown",
            "metadata": {},
            "source": [
                "<u>**Comment**</u><br>\n",
                "\n",
                "Among the covariance matrices between dependent variables;\n",
                "\n",
                "- H0: There is no difference\n",
                "- H1: There is a difference.\n",
                "\n",
                "Since the P-value is greater than 0.05, the H0 hypothesis is accepted. It provides equality of covariance.\n",
                "\n",
                "<a id='one-way-manova-levene'></a>\n",
                "\n",
                "### Levene's Test\n"
            ]
        },
        {
            "cell_type": "code",
            "execution_count": 17,
            "metadata": {
                "vscode": {
                    "languageId": "r"
                }
            },
            "outputs": [
                {
                    "name": "stdout",
                    "output_type": "stream",
                    "text": [
                        "[1] \"ACD - Anterior Chamber Depth\"\n"
                    ]
                },
                {
                    "data": {
                        "text/html": [
                            "<table class=\"dataframe\">\n",
                            "<caption>A tibble: 1 × 4</caption>\n",
                            "<thead>\n",
                            "\t<tr><th scope=col>df1</th><th scope=col>df2</th><th scope=col>statistic</th><th scope=col>p</th></tr>\n",
                            "\t<tr><th scope=col>&lt;int&gt;</th><th scope=col>&lt;int&gt;</th><th scope=col>&lt;dbl&gt;</th><th scope=col>&lt;dbl&gt;</th></tr>\n",
                            "</thead>\n",
                            "<tbody>\n",
                            "\t<tr><td>4</td><td>613</td><td>0.6344901</td><td>0.63805</td></tr>\n",
                            "</tbody>\n",
                            "</table>\n"
                        ],
                        "text/latex": [
                            "A tibble: 1 × 4\n",
                            "\\begin{tabular}{llll}\n",
                            " df1 & df2 & statistic & p\\\\\n",
                            " <int> & <int> & <dbl> & <dbl>\\\\\n",
                            "\\hline\n",
                            "\t 4 & 613 & 0.6344901 & 0.63805\\\\\n",
                            "\\end{tabular}\n"
                        ],
                        "text/markdown": [
                            "\n",
                            "A tibble: 1 × 4\n",
                            "\n",
                            "| df1 &lt;int&gt; | df2 &lt;int&gt; | statistic &lt;dbl&gt; | p &lt;dbl&gt; |\n",
                            "|---|---|---|---|\n",
                            "| 4 | 613 | 0.6344901 | 0.63805 |\n",
                            "\n"
                        ],
                        "text/plain": [
                            "  df1 df2 statistic p      \n",
                            "1 4   613 0.6344901 0.63805"
                        ]
                    },
                    "metadata": {},
                    "output_type": "display_data"
                },
                {
                    "name": "stdout",
                    "output_type": "stream",
                    "text": [
                        "[1] \"AL - Axial Length\"\n"
                    ]
                },
                {
                    "data": {
                        "text/html": [
                            "<table class=\"dataframe\">\n",
                            "<caption>A tibble: 1 × 4</caption>\n",
                            "<thead>\n",
                            "\t<tr><th scope=col>df1</th><th scope=col>df2</th><th scope=col>statistic</th><th scope=col>p</th></tr>\n",
                            "\t<tr><th scope=col>&lt;int&gt;</th><th scope=col>&lt;int&gt;</th><th scope=col>&lt;dbl&gt;</th><th scope=col>&lt;dbl&gt;</th></tr>\n",
                            "</thead>\n",
                            "<tbody>\n",
                            "\t<tr><td>4</td><td>613</td><td>0.718439</td><td>0.5795184</td></tr>\n",
                            "</tbody>\n",
                            "</table>\n"
                        ],
                        "text/latex": [
                            "A tibble: 1 × 4\n",
                            "\\begin{tabular}{llll}\n",
                            " df1 & df2 & statistic & p\\\\\n",
                            " <int> & <int> & <dbl> & <dbl>\\\\\n",
                            "\\hline\n",
                            "\t 4 & 613 & 0.718439 & 0.5795184\\\\\n",
                            "\\end{tabular}\n"
                        ],
                        "text/markdown": [
                            "\n",
                            "A tibble: 1 × 4\n",
                            "\n",
                            "| df1 &lt;int&gt; | df2 &lt;int&gt; | statistic &lt;dbl&gt; | p &lt;dbl&gt; |\n",
                            "|---|---|---|---|\n",
                            "| 4 | 613 | 0.718439 | 0.5795184 |\n",
                            "\n"
                        ],
                        "text/plain": [
                            "  df1 df2 statistic p        \n",
                            "1 4   613 0.718439  0.5795184"
                        ]
                    },
                    "metadata": {},
                    "output_type": "display_data"
                }
            ],
            "source": [
                "print(\"ACD - Anterior Chamber Depth\")\n",
                "levene_test(data = df, ACD ~ AGE, center = mean)\n",
                "\n",
                "print(\"AL - Axial Length\")\n",
                "levene_test(data = df, AL ~ AGE, center = mean)\n"
            ]
        },
        {
            "cell_type": "markdown",
            "metadata": {},
            "source": [
                "<u>**Comment**</u><br>\n",
                "\n",
                "H0 hypothesis is accepted because p-values are greater than 0.05. The assumption of equality of variance is also provided.\n",
                "\n",
                "<a id='one-way-manova-descr'></a>\n",
                "\n",
                "### Descriptive Statistics\n"
            ]
        },
        {
            "cell_type": "code",
            "execution_count": 18,
            "metadata": {
                "vscode": {
                    "languageId": "r"
                }
            },
            "outputs": [
                {
                    "data": {
                        "text/html": [
                            "<table class=\"dataframe\">\n",
                            "<caption>A tibble: 10 × 5</caption>\n",
                            "<thead>\n",
                            "\t<tr><th scope=col>AGE</th><th scope=col>variable</th><th scope=col>n</th><th scope=col>mean</th><th scope=col>sd</th></tr>\n",
                            "\t<tr><th scope=col>&lt;fct&gt;</th><th scope=col>&lt;fct&gt;</th><th scope=col>&lt;dbl&gt;</th><th scope=col>&lt;dbl&gt;</th><th scope=col>&lt;dbl&gt;</th></tr>\n",
                            "</thead>\n",
                            "<tbody>\n",
                            "\t<tr><td>5</td><td>ACD</td><td> 21</td><td> 3.518</td><td>0.244</td></tr>\n",
                            "\t<tr><td>5</td><td>AL </td><td> 21</td><td>22.280</td><td>0.602</td></tr>\n",
                            "\t<tr><td>6</td><td>ACD</td><td>456</td><td> 3.557</td><td>0.227</td></tr>\n",
                            "\t<tr><td>6</td><td>AL </td><td>456</td><td>22.426</td><td>0.675</td></tr>\n",
                            "\t<tr><td>7</td><td>ACD</td><td> 82</td><td> 3.640</td><td>0.211</td></tr>\n",
                            "\t<tr><td>7</td><td>AL </td><td> 82</td><td>22.707</td><td>0.653</td></tr>\n",
                            "\t<tr><td>8</td><td>ACD</td><td> 53</td><td> 3.671</td><td>0.221</td></tr>\n",
                            "\t<tr><td>8</td><td>AL </td><td> 53</td><td>22.783</td><td>0.576</td></tr>\n",
                            "\t<tr><td>9</td><td>ACD</td><td>  6</td><td> 3.763</td><td>0.364</td></tr>\n",
                            "\t<tr><td>9</td><td>AL </td><td>  6</td><td>23.273</td><td>0.937</td></tr>\n",
                            "</tbody>\n",
                            "</table>\n"
                        ],
                        "text/latex": [
                            "A tibble: 10 × 5\n",
                            "\\begin{tabular}{lllll}\n",
                            " AGE & variable & n & mean & sd\\\\\n",
                            " <fct> & <fct> & <dbl> & <dbl> & <dbl>\\\\\n",
                            "\\hline\n",
                            "\t 5 & ACD &  21 &  3.518 & 0.244\\\\\n",
                            "\t 5 & AL  &  21 & 22.280 & 0.602\\\\\n",
                            "\t 6 & ACD & 456 &  3.557 & 0.227\\\\\n",
                            "\t 6 & AL  & 456 & 22.426 & 0.675\\\\\n",
                            "\t 7 & ACD &  82 &  3.640 & 0.211\\\\\n",
                            "\t 7 & AL  &  82 & 22.707 & 0.653\\\\\n",
                            "\t 8 & ACD &  53 &  3.671 & 0.221\\\\\n",
                            "\t 8 & AL  &  53 & 22.783 & 0.576\\\\\n",
                            "\t 9 & ACD &   6 &  3.763 & 0.364\\\\\n",
                            "\t 9 & AL  &   6 & 23.273 & 0.937\\\\\n",
                            "\\end{tabular}\n"
                        ],
                        "text/markdown": [
                            "\n",
                            "A tibble: 10 × 5\n",
                            "\n",
                            "| AGE &lt;fct&gt; | variable &lt;fct&gt; | n &lt;dbl&gt; | mean &lt;dbl&gt; | sd &lt;dbl&gt; |\n",
                            "|---|---|---|---|---|\n",
                            "| 5 | ACD |  21 |  3.518 | 0.244 |\n",
                            "| 5 | AL  |  21 | 22.280 | 0.602 |\n",
                            "| 6 | ACD | 456 |  3.557 | 0.227 |\n",
                            "| 6 | AL  | 456 | 22.426 | 0.675 |\n",
                            "| 7 | ACD |  82 |  3.640 | 0.211 |\n",
                            "| 7 | AL  |  82 | 22.707 | 0.653 |\n",
                            "| 8 | ACD |  53 |  3.671 | 0.221 |\n",
                            "| 8 | AL  |  53 | 22.783 | 0.576 |\n",
                            "| 9 | ACD |   6 |  3.763 | 0.364 |\n",
                            "| 9 | AL  |   6 | 23.273 | 0.937 |\n",
                            "\n"
                        ],
                        "text/plain": [
                            "   AGE variable n   mean   sd   \n",
                            "1  5   ACD       21  3.518 0.244\n",
                            "2  5   AL        21 22.280 0.602\n",
                            "3  6   ACD      456  3.557 0.227\n",
                            "4  6   AL       456 22.426 0.675\n",
                            "5  7   ACD       82  3.640 0.211\n",
                            "6  7   AL        82 22.707 0.653\n",
                            "7  8   ACD       53  3.671 0.221\n",
                            "8  8   AL        53 22.783 0.576\n",
                            "9  9   ACD        6  3.763 0.364\n",
                            "10 9   AL         6 23.273 0.937"
                        ]
                    },
                    "metadata": {},
                    "output_type": "display_data"
                }
            ],
            "source": [
                "df %>%\n",
                "  group_by(AGE) %>%\n",
                "  get_summary_stats(ACD, AL, type = \"mean_sd\")\n"
            ]
        },
        {
            "cell_type": "markdown",
            "metadata": {},
            "source": [
                "<a id='one-way-manova-table'></a>\n",
                "\n",
                "### MANOVA Table\n"
            ]
        },
        {
            "cell_type": "code",
            "execution_count": 19,
            "metadata": {
                "vscode": {
                    "languageId": "r"
                }
            },
            "outputs": [
                {
                    "data": {
                        "text/plain": [
                            "\n",
                            "Type III MANOVA Tests:\n",
                            "\n",
                            "Sum of squares and products for error:\n",
                            "         ACD        AL\n",
                            "ACD 31.49637  39.82391\n",
                            "AL  39.82391 270.55319\n",
                            "\n",
                            "------------------------------------------\n",
                            " \n",
                            "Term: (Intercept) \n",
                            "\n",
                            "Sum of squares and products for the hypothesis:\n",
                            "          ACD        AL\n",
                            "ACD  259.8324  1645.814\n",
                            "AL  1645.8142 10424.812\n",
                            "\n",
                            "Multivariate Tests: (Intercept)\n",
                            "                 Df test stat approx F num Df den Df     Pr(>F)    \n",
                            "Pillai            1   0.97473 11804.83      2    612 < 2.22e-16 ***\n",
                            "Wilks             1   0.02527 11804.83      2    612 < 2.22e-16 ***\n",
                            "Hotelling-Lawley  1  38.57786 11804.83      2    612 < 2.22e-16 ***\n",
                            "Roy               1  38.57786 11804.83      2    612 < 2.22e-16 ***\n",
                            "---\n",
                            "Signif. codes:  0 '***' 0.001 '**' 0.01 '*' 0.05 '.' 0.1 ' ' 1\n",
                            "\n",
                            "------------------------------------------\n",
                            " \n",
                            "Term: AGE \n",
                            "\n",
                            "Sum of squares and products for the hypothesis:\n",
                            "         ACD        AL\n",
                            "ACD 1.254779  4.292674\n",
                            "AL  4.292674 14.866303\n",
                            "\n",
                            "Multivariate Tests: AGE\n",
                            "                 Df test stat  approx F num Df den Df     Pr(>F)    \n",
                            "Pillai            4 0.0629964  4.984089      8   1226 4.2618e-06 ***\n",
                            "Wilks             4 0.9370343  5.056986      8   1224 3.3457e-06 ***\n",
                            "Hotelling-Lawley  4 0.0671641  5.129661      8   1222 2.6273e-06 ***\n",
                            "Roy               4 0.0666735 10.217717      4    613 5.1617e-08 ***\n",
                            "---\n",
                            "Signif. codes:  0 '***' 0.001 '**' 0.01 '*' 0.05 '.' 0.1 ' ' 1"
                        ]
                    },
                    "metadata": {},
                    "output_type": "display_data"
                }
            ],
            "source": [
                "model_m1 <- lm(cbind(ACD, AL) ~ AGE,\n",
                "  data = df\n",
                ")\n",
                "\n",
                "# Multivariate Tests\n",
                "summary(Manova(model_m1,\n",
                "  type = 3\n",
                "))\n"
            ]
        },
        {
            "cell_type": "markdown",
            "metadata": {},
            "source": [
                "<u>**Comment**</u><br>\n",
                "\n",
                "Since p-value is smaller than 0.05, it can be said that there is a difference between Anterior Chamber Depth (ACD) and Axial Length (AL) groups.\n"
            ]
        },
        {
            "cell_type": "code",
            "execution_count": 20,
            "metadata": {
                "vscode": {
                    "languageId": "r"
                }
            },
            "outputs": [
                {
                    "data": {
                        "text/plain": [
                            " Response ACD :\n",
                            "             Df  Sum Sq  Mean Sq F value    Pr(>F)    \n",
                            "AGE           4  1.2548 0.313695  6.1053 8.039e-05 ***\n",
                            "Residuals   613 31.4964 0.051381                      \n",
                            "---\n",
                            "Signif. codes:  0 '***' 0.001 '**' 0.01 '*' 0.05 '.' 0.1 ' ' 1\n",
                            "\n",
                            " Response AL :\n",
                            "             Df  Sum Sq Mean Sq F value    Pr(>F)    \n",
                            "AGE           4  14.866  3.7166  8.4208 1.286e-06 ***\n",
                            "Residuals   613 270.553  0.4414                      \n",
                            "---\n",
                            "Signif. codes:  0 '***' 0.001 '**' 0.01 '*' 0.05 '.' 0.1 ' ' 1\n"
                        ]
                    },
                    "metadata": {},
                    "output_type": "display_data"
                }
            ],
            "source": [
                "summary.aov(model_m1)\n"
            ]
        },
        {
            "cell_type": "markdown",
            "metadata": {},
            "source": [
                "<a id='two-way-manova'></a>\n",
                "\n",
                "## Two-way MANOVA\n",
                "\n",
                "> Dependent Variables: DIOPTERHR, TVHR, SPORTHR\n",
                ">\n",
                "> Independent Variables (\"Factors\"): GENDER, MYOPIC\n",
                "\n",
                "<a id='two-way-manova-boxm'></a>\n",
                "\n",
                "### Homogeneity of Covariance Matrices\n"
            ]
        },
        {
            "cell_type": "code",
            "execution_count": 21,
            "metadata": {
                "vscode": {
                    "languageId": "r"
                }
            },
            "outputs": [
                {
                    "data": {
                        "text/plain": [
                            "\n",
                            "\tBox's M-test for Homogeneity of Covariance Matrices\n",
                            "\n",
                            "data:  Y\n",
                            "Chi-Sq (approx.) = 21.77, df = 18, p-value = 0.2423\n"
                        ]
                    },
                    "metadata": {},
                    "output_type": "display_data"
                }
            ],
            "source": [
                "boxM(cbind(DIOPTERHR, TVHR, SPORTHR) ~ GENDER * MYOPIC, data = df)\n"
            ]
        },
        {
            "cell_type": "markdown",
            "metadata": {},
            "source": [
                "<a id='two-way-manova-descr'></a>\n",
                "\n",
                "### Descriptive Statistics\n"
            ]
        },
        {
            "cell_type": "code",
            "execution_count": 22,
            "metadata": {
                "vscode": {
                    "languageId": "r"
                }
            },
            "outputs": [
                {
                    "data": {
                        "text/html": [
                            "<table class=\"dataframe\">\n",
                            "<caption>A tibble: 12 × 6</caption>\n",
                            "<thead>\n",
                            "\t<tr><th scope=col>MYOPIC</th><th scope=col>GENDER</th><th scope=col>variable</th><th scope=col>n</th><th scope=col>mean</th><th scope=col>sd</th></tr>\n",
                            "\t<tr><th scope=col>&lt;fct&gt;</th><th scope=col>&lt;fct&gt;</th><th scope=col>&lt;fct&gt;</th><th scope=col>&lt;dbl&gt;</th><th scope=col>&lt;dbl&gt;</th><th scope=col>&lt;dbl&gt;</th></tr>\n",
                            "</thead>\n",
                            "<tbody>\n",
                            "\t<tr><td>0</td><td>0</td><td>DIOPTERHR</td><td>281</td><td>26.747</td><td>16.684</td></tr>\n",
                            "\t<tr><td>0</td><td>0</td><td>TVHR     </td><td>281</td><td> 9.199</td><td> 6.180</td></tr>\n",
                            "\t<tr><td>0</td><td>0</td><td>SPORTHR  </td><td>281</td><td>13.203</td><td> 8.095</td></tr>\n",
                            "\t<tr><td>1</td><td>0</td><td>DIOPTERHR</td><td> 35</td><td>26.914</td><td>16.655</td></tr>\n",
                            "\t<tr><td>1</td><td>0</td><td>TVHR     </td><td> 35</td><td> 8.371</td><td> 5.281</td></tr>\n",
                            "\t<tr><td>1</td><td>0</td><td>SPORTHR  </td><td> 35</td><td> 9.171</td><td> 7.501</td></tr>\n",
                            "\t<tr><td>0</td><td>1</td><td>DIOPTERHR</td><td>256</td><td>24.734</td><td>15.009</td></tr>\n",
                            "\t<tr><td>0</td><td>1</td><td>TVHR     </td><td>256</td><td> 8.691</td><td> 5.328</td></tr>\n",
                            "\t<tr><td>0</td><td>1</td><td>SPORTHR  </td><td>256</td><td>11.219</td><td> 7.618</td></tr>\n",
                            "\t<tr><td>1</td><td>1</td><td>DIOPTERHR</td><td> 46</td><td>28.022</td><td>16.986</td></tr>\n",
                            "\t<tr><td>1</td><td>1</td><td>TVHR     </td><td> 46</td><td> 9.283</td><td> 5.265</td></tr>\n",
                            "\t<tr><td>1</td><td>1</td><td>SPORTHR  </td><td> 46</td><td>10.522</td><td> 8.398</td></tr>\n",
                            "</tbody>\n",
                            "</table>\n"
                        ],
                        "text/latex": [
                            "A tibble: 12 × 6\n",
                            "\\begin{tabular}{llllll}\n",
                            " MYOPIC & GENDER & variable & n & mean & sd\\\\\n",
                            " <fct> & <fct> & <fct> & <dbl> & <dbl> & <dbl>\\\\\n",
                            "\\hline\n",
                            "\t 0 & 0 & DIOPTERHR & 281 & 26.747 & 16.684\\\\\n",
                            "\t 0 & 0 & TVHR      & 281 &  9.199 &  6.180\\\\\n",
                            "\t 0 & 0 & SPORTHR   & 281 & 13.203 &  8.095\\\\\n",
                            "\t 1 & 0 & DIOPTERHR &  35 & 26.914 & 16.655\\\\\n",
                            "\t 1 & 0 & TVHR      &  35 &  8.371 &  5.281\\\\\n",
                            "\t 1 & 0 & SPORTHR   &  35 &  9.171 &  7.501\\\\\n",
                            "\t 0 & 1 & DIOPTERHR & 256 & 24.734 & 15.009\\\\\n",
                            "\t 0 & 1 & TVHR      & 256 &  8.691 &  5.328\\\\\n",
                            "\t 0 & 1 & SPORTHR   & 256 & 11.219 &  7.618\\\\\n",
                            "\t 1 & 1 & DIOPTERHR &  46 & 28.022 & 16.986\\\\\n",
                            "\t 1 & 1 & TVHR      &  46 &  9.283 &  5.265\\\\\n",
                            "\t 1 & 1 & SPORTHR   &  46 & 10.522 &  8.398\\\\\n",
                            "\\end{tabular}\n"
                        ],
                        "text/markdown": [
                            "\n",
                            "A tibble: 12 × 6\n",
                            "\n",
                            "| MYOPIC &lt;fct&gt; | GENDER &lt;fct&gt; | variable &lt;fct&gt; | n &lt;dbl&gt; | mean &lt;dbl&gt; | sd &lt;dbl&gt; |\n",
                            "|---|---|---|---|---|---|\n",
                            "| 0 | 0 | DIOPTERHR | 281 | 26.747 | 16.684 |\n",
                            "| 0 | 0 | TVHR      | 281 |  9.199 |  6.180 |\n",
                            "| 0 | 0 | SPORTHR   | 281 | 13.203 |  8.095 |\n",
                            "| 1 | 0 | DIOPTERHR |  35 | 26.914 | 16.655 |\n",
                            "| 1 | 0 | TVHR      |  35 |  8.371 |  5.281 |\n",
                            "| 1 | 0 | SPORTHR   |  35 |  9.171 |  7.501 |\n",
                            "| 0 | 1 | DIOPTERHR | 256 | 24.734 | 15.009 |\n",
                            "| 0 | 1 | TVHR      | 256 |  8.691 |  5.328 |\n",
                            "| 0 | 1 | SPORTHR   | 256 | 11.219 |  7.618 |\n",
                            "| 1 | 1 | DIOPTERHR |  46 | 28.022 | 16.986 |\n",
                            "| 1 | 1 | TVHR      |  46 |  9.283 |  5.265 |\n",
                            "| 1 | 1 | SPORTHR   |  46 | 10.522 |  8.398 |\n",
                            "\n"
                        ],
                        "text/plain": [
                            "   MYOPIC GENDER variable  n   mean   sd    \n",
                            "1  0      0      DIOPTERHR 281 26.747 16.684\n",
                            "2  0      0      TVHR      281  9.199  6.180\n",
                            "3  0      0      SPORTHR   281 13.203  8.095\n",
                            "4  1      0      DIOPTERHR  35 26.914 16.655\n",
                            "5  1      0      TVHR       35  8.371  5.281\n",
                            "6  1      0      SPORTHR    35  9.171  7.501\n",
                            "7  0      1      DIOPTERHR 256 24.734 15.009\n",
                            "8  0      1      TVHR      256  8.691  5.328\n",
                            "9  0      1      SPORTHR   256 11.219  7.618\n",
                            "10 1      1      DIOPTERHR  46 28.022 16.986\n",
                            "11 1      1      TVHR       46  9.283  5.265\n",
                            "12 1      1      SPORTHR    46 10.522  8.398"
                        ]
                    },
                    "metadata": {},
                    "output_type": "display_data"
                }
            ],
            "source": [
                "df %>%\n",
                "  group_by(GENDER, MYOPIC) %>%\n",
                "  get_summary_stats(DIOPTERHR, TVHR, SPORTHR, type = \"mean_sd\")\n"
            ]
        },
        {
            "cell_type": "markdown",
            "metadata": {},
            "source": [
                "<a id='two-way-manova-table'></a>\n",
                "\n",
                "### MANOVA Table\n"
            ]
        },
        {
            "cell_type": "code",
            "execution_count": 23,
            "metadata": {
                "vscode": {
                    "languageId": "r"
                }
            },
            "outputs": [
                {
                    "data": {
                        "text/plain": [
                            "\n",
                            "Type III MANOVA Tests:\n",
                            "\n",
                            "Sum of squares and products for error:\n",
                            "          DIOPTERHR      TVHR   SPORTHR\n",
                            "DIOPTERHR 157794.72 23932.997 14647.270\n",
                            "TVHR       23933.00 20128.958  4706.911\n",
                            "SPORTHR    14647.27  4706.911 38233.637\n",
                            "\n",
                            "------------------------------------------\n",
                            " \n",
                            "Term: (Intercept) \n",
                            "\n",
                            "Sum of squares and products for the hypothesis:\n",
                            "          DIOPTERHR     TVHR  SPORTHR\n",
                            "DIOPTERHR 201032.94 69141.85 99232.60\n",
                            "TVHR       69141.85 23780.16 34129.36\n",
                            "SPORTHR    99232.60 34129.36 48982.56\n",
                            "\n",
                            "Multivariate Tests: (Intercept)\n",
                            "                 Df test stat approx F num Df den Df     Pr(>F)    \n",
                            "Pillai            1 0.7131297 507.1227      3    612 < 2.22e-16 ***\n",
                            "Wilks             1 0.2868703 507.1227      3    612 < 2.22e-16 ***\n",
                            "Hotelling-Lawley  1 2.4858956 507.1227      3    612 < 2.22e-16 ***\n",
                            "Roy               1 2.4858956 507.1227      3    612 < 2.22e-16 ***\n",
                            "---\n",
                            "Signif. codes:  0 '***' 0.001 '**' 0.01 '*' 0.05 '.' 0.1 ' ' 1\n",
                            "\n",
                            "------------------------------------------\n",
                            " \n",
                            "Term: GENDER \n",
                            "\n",
                            "Sum of squares and products for the hypothesis:\n",
                            "          DIOPTERHR      TVHR  SPORTHR\n",
                            "DIOPTERHR  542.8009 136.95223 535.0190\n",
                            "TVHR       136.9522  34.55395 134.9888\n",
                            "SPORTHR    535.0190 134.98880 527.3486\n",
                            "\n",
                            "Multivariate Tests: GENDER\n",
                            "                 Df test stat approx F num Df den Df   Pr(>F)  \n",
                            "Pillai            1 0.0150004 3.106687      3    612 0.026058 *\n",
                            "Wilks             1 0.9849996 3.106687      3    612 0.026058 *\n",
                            "Hotelling-Lawley  1 0.0152289 3.106687      3    612 0.026058 *\n",
                            "Roy               1 0.0152289 3.106687      3    612 0.026058 *\n",
                            "---\n",
                            "Signif. codes:  0 '***' 0.001 '**' 0.01 '*' 0.05 '.' 0.1 ' ' 1\n",
                            "\n",
                            "------------------------------------------\n",
                            " \n",
                            "Term: MYOPIC \n",
                            "\n",
                            "Sum of squares and products for the hypothesis:\n",
                            "            DIOPTERHR       TVHR   SPORTHR\n",
                            "DIOPTERHR   0.8675307  -4.301727 -20.94807\n",
                            "TVHR       -4.3017266  21.330486 103.87281\n",
                            "SPORTHR   -20.9480665 103.872812 505.82819\n",
                            "\n",
                            "Multivariate Tests: MYOPIC\n",
                            "                 Df test stat approx F num Df den Df   Pr(>F)  \n",
                            "Pillai            1 0.0142645 2.952068      3    612 0.032073 *\n",
                            "Wilks             1 0.9857355 2.952068      3    612 0.032073 *\n",
                            "Hotelling-Lawley  1 0.0144709 2.952068      3    612 0.032073 *\n",
                            "Roy               1 0.0144709 2.952068      3    612 0.032073 *\n",
                            "---\n",
                            "Signif. codes:  0 '***' 0.001 '**' 0.01 '*' 0.05 '.' 0.1 ' ' 1\n",
                            "\n",
                            "------------------------------------------\n",
                            " \n",
                            "Term: GENDER:MYOPIC \n",
                            "\n",
                            "Sum of squares and products for the hypothesis:\n",
                            "          DIOPTERHR     TVHR   SPORTHR\n",
                            "DIOPTERHR 168.53078 76.64239 180.08865\n",
                            "TVHR       76.64239 34.85450  81.89854\n",
                            "SPORTHR   180.08865 81.89854 192.43915\n",
                            "\n",
                            "Multivariate Tests: GENDER:MYOPIC\n",
                            "                 Df test stat approx F num Df den Df  Pr(>F)\n",
                            "Pillai            1 0.0059650 1.224163      3    612 0.30005\n",
                            "Wilks             1 0.9940350 1.224163      3    612 0.30005\n",
                            "Hotelling-Lawley  1 0.0060008 1.224163      3    612 0.30005\n",
                            "Roy               1 0.0060008 1.224163      3    612 0.30005"
                        ]
                    },
                    "metadata": {},
                    "output_type": "display_data"
                }
            ],
            "source": [
                "model_m2 <-\n",
                "  lm(cbind(DIOPTERHR, TVHR, SPORTHR) ~ GENDER * MYOPIC, data = df)\n",
                "\n",
                "# Multivariate Tests\n",
                "summary(Manova(model_m2,\n",
                "  type = 3\n",
                "))\n"
            ]
        },
        {
            "cell_type": "code",
            "execution_count": 24,
            "metadata": {
                "vscode": {
                    "languageId": "r"
                }
            },
            "outputs": [
                {
                    "data": {
                        "text/plain": [
                            " Response DIOPTERHR :\n",
                            "               Df Sum Sq Mean Sq F value Pr(>F)\n",
                            "GENDER          1    362  361.83  1.4079 0.2359\n",
                            "MYOPIC          1    254  253.73  0.9873 0.3208\n",
                            "GENDER:MYOPIC   1    169  168.53  0.6558 0.4184\n",
                            "Residuals     614 157795  256.99               \n",
                            "\n",
                            " Response TVHR :\n",
                            "               Df  Sum Sq Mean Sq F value Pr(>F)\n",
                            "GENDER          1    16.4  16.425  0.5010 0.4793\n",
                            "MYOPIC          1     0.1   0.105  0.0032 0.9549\n",
                            "GENDER:MYOPIC   1    34.9  34.855  1.0632 0.3029\n",
                            "Residuals     614 20129.0  32.783               \n",
                            "\n",
                            " Response SPORTHR :\n",
                            "               Df Sum Sq Mean Sq F value   Pr(>F)   \n",
                            "GENDER          1    417  417.23  6.7004 0.009868 **\n",
                            "MYOPIC          1    332  332.33  5.3370 0.021208 * \n",
                            "GENDER:MYOPIC   1    192  192.44  3.0904 0.079253 . \n",
                            "Residuals     614  38234   62.27                    \n",
                            "---\n",
                            "Signif. codes:  0 '***' 0.001 '**' 0.01 '*' 0.05 '.' 0.1 ' ' 1\n"
                        ]
                    },
                    "metadata": {},
                    "output_type": "display_data"
                }
            ],
            "source": [
                "summary.aov(model_m2)\n"
            ]
        },
        {
            "cell_type": "markdown",
            "metadata": {},
            "source": [
                "<u>**NOTE**</u><br>\n",
                "\n",
                "For _IBM SPSS Statistics_ : `Analyze > General Linear Model > Multivariate`. You can perform the analysis by ticking the ones you want in the \"Options\" section.\n"
            ]
        }
    ],
    "metadata": {
        "anaconda-cloud": "",
        "kernelspec": {
            "display_name": "R",
            "langauge": "R",
            "language": "R",
            "name": "ir"
        },
        "language_info": {
            "codemirror_mode": "r",
            "file_extension": ".r",
            "mimetype": "text/x-r-source",
            "name": "R",
            "pygments_lexer": "r",
            "version": "4.2.2"
        }
    },
    "nbformat": 4,
    "nbformat_minor": 1
}
